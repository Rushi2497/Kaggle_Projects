{
 "cells": [
  {
   "cell_type": "markdown",
   "id": "ecb78106",
   "metadata": {},
   "source": [
    "# Titanic Survival EDA and Prediction Explained"
   ]
  },
  {
   "cell_type": "markdown",
   "id": "d91ef690",
   "metadata": {},
   "source": [
    "**Note:** This notebook is built on top of my previous work using Logistic Regression. The link to that notebook is here: https://www.kaggle.com/code/rushikeshsawarkar/titanic-survival-using-logistic-regression"
   ]
  },
  {
   "cell_type": "markdown",
   "id": "05011828",
   "metadata": {},
   "source": [
    "In this project, we will try to predict from the test data who survived on the RMS Titanic after colliding with an iceberg on April15, 1912 using some machine learning on the training data availble with us from Kaggle: https://www.kaggle.com/competitions/titanic/overview"
   ]
  },
  {
   "cell_type": "markdown",
   "id": "244348e5",
   "metadata": {},
   "source": [
    "We are given two datasets: train.csv and test.csv to train and make predictions"
   ]
  },
  {
   "cell_type": "markdown",
   "id": "84c1daaf",
   "metadata": {},
   "source": [
    "Below are the columns we have in our datasets:\n",
    "\n",
    "- **PassengerId:**  Unique ID of passenger aboard the ship\n",
    "- **Survived:**  0 = No, 1 = Yes (Only in the training data)\n",
    "- **Pclass:**  Ticket class (1,2,3)\n",
    "- **Name:**  Name of the passenger\n",
    "- **Sex:**  male, female\n",
    "- **Age (in years)**\n",
    "- **SibSp:**  # of siblings / spouses aboard the Titanic\t\n",
    "- **Parch:**  # of parents / children aboard the Titanic\t\n",
    "- **Ticket:**  Ticket number\t\n",
    "- **Fare:**  Passenger fare\t\n",
    "- **Cabin:**  Cabin number\t\n",
    "- **Embarked:**  Port of Embarkation (C = Cherbourg, Q = Queenstown, S = Southampton)"
   ]
  },
  {
   "cell_type": "markdown",
   "id": "7edf48e5",
   "metadata": {},
   "source": [
    "We will start with our project by importing all the required libraries"
   ]
  },
  {
   "cell_type": "markdown",
   "id": "17f47c7a",
   "metadata": {},
   "source": [
    "<br>"
   ]
  },
  {
   "cell_type": "markdown",
   "id": "1aad4e99",
   "metadata": {},
   "source": [
    "# Importing the necessary libraries"
   ]
  },
  {
   "cell_type": "code",
   "execution_count": 1,
   "id": "d5ae3e7b",
   "metadata": {},
   "outputs": [],
   "source": [
    "import numpy as np\n",
    "import pandas as pd\n",
    "import matplotlib.pyplot as plt\n",
    "import seaborn as sns\n",
    "from sklearn.model_selection import cross_val_score, GridSearchCV\n",
    "from sklearn.compose import ColumnTransformer\n",
    "from sklearn.preprocessing import StandardScaler, OneHotEncoder\n",
    "from sklearn.metrics import classification_report, ConfusionMatrixDisplay\n",
    "from sklearn.linear_model import LogisticRegression\n",
    "from sklearn.neighbors import KNeighborsClassifier\n",
    "from sklearn.svm import SVC\n",
    "from sklearn.tree import DecisionTreeClassifier\n",
    "from sklearn.ensemble import RandomForestClassifier"
   ]
  },
  {
   "cell_type": "markdown",
   "id": "6bb6e86d",
   "metadata": {},
   "source": [
    "#### Setting the plotting style to Seaborn default"
   ]
  },
  {
   "cell_type": "code",
   "execution_count": 2,
   "id": "a5576dba",
   "metadata": {},
   "outputs": [],
   "source": [
    "sns.set()"
   ]
  },
  {
   "cell_type": "markdown",
   "id": "6539f1e4",
   "metadata": {},
   "source": [
    "<br>"
   ]
  },
  {
   "cell_type": "markdown",
   "id": "7f772d8f",
   "metadata": {},
   "source": [
    "# Importing the training dataset"
   ]
  },
  {
   "cell_type": "code",
   "execution_count": 3,
   "id": "6921b901",
   "metadata": {},
   "outputs": [
    {
     "data": {
      "text/html": [
       "<div>\n",
       "<style scoped>\n",
       "    .dataframe tbody tr th:only-of-type {\n",
       "        vertical-align: middle;\n",
       "    }\n",
       "\n",
       "    .dataframe tbody tr th {\n",
       "        vertical-align: top;\n",
       "    }\n",
       "\n",
       "    .dataframe thead th {\n",
       "        text-align: right;\n",
       "    }\n",
       "</style>\n",
       "<table border=\"1\" class=\"dataframe\">\n",
       "  <thead>\n",
       "    <tr style=\"text-align: right;\">\n",
       "      <th></th>\n",
       "      <th>PassengerId</th>\n",
       "      <th>Survived</th>\n",
       "      <th>Pclass</th>\n",
       "      <th>Name</th>\n",
       "      <th>Sex</th>\n",
       "      <th>Age</th>\n",
       "      <th>SibSp</th>\n",
       "      <th>Parch</th>\n",
       "      <th>Ticket</th>\n",
       "      <th>Fare</th>\n",
       "      <th>Cabin</th>\n",
       "      <th>Embarked</th>\n",
       "    </tr>\n",
       "  </thead>\n",
       "  <tbody>\n",
       "    <tr>\n",
       "      <th>0</th>\n",
       "      <td>1</td>\n",
       "      <td>0</td>\n",
       "      <td>3</td>\n",
       "      <td>Braund, Mr. Owen Harris</td>\n",
       "      <td>male</td>\n",
       "      <td>22.0</td>\n",
       "      <td>1</td>\n",
       "      <td>0</td>\n",
       "      <td>A/5 21171</td>\n",
       "      <td>7.2500</td>\n",
       "      <td>NaN</td>\n",
       "      <td>S</td>\n",
       "    </tr>\n",
       "    <tr>\n",
       "      <th>1</th>\n",
       "      <td>2</td>\n",
       "      <td>1</td>\n",
       "      <td>1</td>\n",
       "      <td>Cumings, Mrs. John Bradley (Florence Briggs Th...</td>\n",
       "      <td>female</td>\n",
       "      <td>38.0</td>\n",
       "      <td>1</td>\n",
       "      <td>0</td>\n",
       "      <td>PC 17599</td>\n",
       "      <td>71.2833</td>\n",
       "      <td>C85</td>\n",
       "      <td>C</td>\n",
       "    </tr>\n",
       "    <tr>\n",
       "      <th>2</th>\n",
       "      <td>3</td>\n",
       "      <td>1</td>\n",
       "      <td>3</td>\n",
       "      <td>Heikkinen, Miss. Laina</td>\n",
       "      <td>female</td>\n",
       "      <td>26.0</td>\n",
       "      <td>0</td>\n",
       "      <td>0</td>\n",
       "      <td>STON/O2. 3101282</td>\n",
       "      <td>7.9250</td>\n",
       "      <td>NaN</td>\n",
       "      <td>S</td>\n",
       "    </tr>\n",
       "    <tr>\n",
       "      <th>3</th>\n",
       "      <td>4</td>\n",
       "      <td>1</td>\n",
       "      <td>1</td>\n",
       "      <td>Futrelle, Mrs. Jacques Heath (Lily May Peel)</td>\n",
       "      <td>female</td>\n",
       "      <td>35.0</td>\n",
       "      <td>1</td>\n",
       "      <td>0</td>\n",
       "      <td>113803</td>\n",
       "      <td>53.1000</td>\n",
       "      <td>C123</td>\n",
       "      <td>S</td>\n",
       "    </tr>\n",
       "    <tr>\n",
       "      <th>4</th>\n",
       "      <td>5</td>\n",
       "      <td>0</td>\n",
       "      <td>3</td>\n",
       "      <td>Allen, Mr. William Henry</td>\n",
       "      <td>male</td>\n",
       "      <td>35.0</td>\n",
       "      <td>0</td>\n",
       "      <td>0</td>\n",
       "      <td>373450</td>\n",
       "      <td>8.0500</td>\n",
       "      <td>NaN</td>\n",
       "      <td>S</td>\n",
       "    </tr>\n",
       "  </tbody>\n",
       "</table>\n",
       "</div>"
      ],
      "text/plain": [
       "   PassengerId  Survived  Pclass  \\\n",
       "0            1         0       3   \n",
       "1            2         1       1   \n",
       "2            3         1       3   \n",
       "3            4         1       1   \n",
       "4            5         0       3   \n",
       "\n",
       "                                                Name     Sex   Age  SibSp  \\\n",
       "0                            Braund, Mr. Owen Harris    male  22.0      1   \n",
       "1  Cumings, Mrs. John Bradley (Florence Briggs Th...  female  38.0      1   \n",
       "2                             Heikkinen, Miss. Laina  female  26.0      0   \n",
       "3       Futrelle, Mrs. Jacques Heath (Lily May Peel)  female  35.0      1   \n",
       "4                           Allen, Mr. William Henry    male  35.0      0   \n",
       "\n",
       "   Parch            Ticket     Fare Cabin Embarked  \n",
       "0      0         A/5 21171   7.2500   NaN        S  \n",
       "1      0          PC 17599  71.2833   C85        C  \n",
       "2      0  STON/O2. 3101282   7.9250   NaN        S  \n",
       "3      0            113803  53.1000  C123        S  \n",
       "4      0            373450   8.0500   NaN        S  "
      ]
     },
     "execution_count": 3,
     "metadata": {},
     "output_type": "execute_result"
    }
   ],
   "source": [
    "train = pd.read_csv('train.csv')\n",
    "train.head()"
   ]
  },
  {
   "cell_type": "markdown",
   "id": "54a65418",
   "metadata": {},
   "source": [
    "We'll do some preliminary study on this dataframe"
   ]
  },
  {
   "cell_type": "code",
   "execution_count": 4,
   "id": "99774541",
   "metadata": {
    "scrolled": true
   },
   "outputs": [
    {
     "data": {
      "text/html": [
       "<div>\n",
       "<style scoped>\n",
       "    .dataframe tbody tr th:only-of-type {\n",
       "        vertical-align: middle;\n",
       "    }\n",
       "\n",
       "    .dataframe tbody tr th {\n",
       "        vertical-align: top;\n",
       "    }\n",
       "\n",
       "    .dataframe thead th {\n",
       "        text-align: right;\n",
       "    }\n",
       "</style>\n",
       "<table border=\"1\" class=\"dataframe\">\n",
       "  <thead>\n",
       "    <tr style=\"text-align: right;\">\n",
       "      <th></th>\n",
       "      <th>PassengerId</th>\n",
       "      <th>Survived</th>\n",
       "      <th>Pclass</th>\n",
       "      <th>Name</th>\n",
       "      <th>Sex</th>\n",
       "      <th>Age</th>\n",
       "      <th>SibSp</th>\n",
       "      <th>Parch</th>\n",
       "      <th>Ticket</th>\n",
       "      <th>Fare</th>\n",
       "      <th>Cabin</th>\n",
       "      <th>Embarked</th>\n",
       "    </tr>\n",
       "  </thead>\n",
       "  <tbody>\n",
       "    <tr>\n",
       "      <th>count</th>\n",
       "      <td>891.000000</td>\n",
       "      <td>891.000000</td>\n",
       "      <td>891.000000</td>\n",
       "      <td>891</td>\n",
       "      <td>891</td>\n",
       "      <td>714.000000</td>\n",
       "      <td>891.000000</td>\n",
       "      <td>891.000000</td>\n",
       "      <td>891</td>\n",
       "      <td>891.000000</td>\n",
       "      <td>204</td>\n",
       "      <td>889</td>\n",
       "    </tr>\n",
       "    <tr>\n",
       "      <th>unique</th>\n",
       "      <td>NaN</td>\n",
       "      <td>NaN</td>\n",
       "      <td>NaN</td>\n",
       "      <td>891</td>\n",
       "      <td>2</td>\n",
       "      <td>NaN</td>\n",
       "      <td>NaN</td>\n",
       "      <td>NaN</td>\n",
       "      <td>681</td>\n",
       "      <td>NaN</td>\n",
       "      <td>147</td>\n",
       "      <td>3</td>\n",
       "    </tr>\n",
       "    <tr>\n",
       "      <th>top</th>\n",
       "      <td>NaN</td>\n",
       "      <td>NaN</td>\n",
       "      <td>NaN</td>\n",
       "      <td>Braund, Mr. Owen Harris</td>\n",
       "      <td>male</td>\n",
       "      <td>NaN</td>\n",
       "      <td>NaN</td>\n",
       "      <td>NaN</td>\n",
       "      <td>347082</td>\n",
       "      <td>NaN</td>\n",
       "      <td>B96 B98</td>\n",
       "      <td>S</td>\n",
       "    </tr>\n",
       "    <tr>\n",
       "      <th>freq</th>\n",
       "      <td>NaN</td>\n",
       "      <td>NaN</td>\n",
       "      <td>NaN</td>\n",
       "      <td>1</td>\n",
       "      <td>577</td>\n",
       "      <td>NaN</td>\n",
       "      <td>NaN</td>\n",
       "      <td>NaN</td>\n",
       "      <td>7</td>\n",
       "      <td>NaN</td>\n",
       "      <td>4</td>\n",
       "      <td>644</td>\n",
       "    </tr>\n",
       "    <tr>\n",
       "      <th>mean</th>\n",
       "      <td>446.000000</td>\n",
       "      <td>0.383838</td>\n",
       "      <td>2.308642</td>\n",
       "      <td>NaN</td>\n",
       "      <td>NaN</td>\n",
       "      <td>29.699118</td>\n",
       "      <td>0.523008</td>\n",
       "      <td>0.381594</td>\n",
       "      <td>NaN</td>\n",
       "      <td>32.204208</td>\n",
       "      <td>NaN</td>\n",
       "      <td>NaN</td>\n",
       "    </tr>\n",
       "    <tr>\n",
       "      <th>std</th>\n",
       "      <td>257.353842</td>\n",
       "      <td>0.486592</td>\n",
       "      <td>0.836071</td>\n",
       "      <td>NaN</td>\n",
       "      <td>NaN</td>\n",
       "      <td>14.526497</td>\n",
       "      <td>1.102743</td>\n",
       "      <td>0.806057</td>\n",
       "      <td>NaN</td>\n",
       "      <td>49.693429</td>\n",
       "      <td>NaN</td>\n",
       "      <td>NaN</td>\n",
       "    </tr>\n",
       "    <tr>\n",
       "      <th>min</th>\n",
       "      <td>1.000000</td>\n",
       "      <td>0.000000</td>\n",
       "      <td>1.000000</td>\n",
       "      <td>NaN</td>\n",
       "      <td>NaN</td>\n",
       "      <td>0.420000</td>\n",
       "      <td>0.000000</td>\n",
       "      <td>0.000000</td>\n",
       "      <td>NaN</td>\n",
       "      <td>0.000000</td>\n",
       "      <td>NaN</td>\n",
       "      <td>NaN</td>\n",
       "    </tr>\n",
       "    <tr>\n",
       "      <th>25%</th>\n",
       "      <td>223.500000</td>\n",
       "      <td>0.000000</td>\n",
       "      <td>2.000000</td>\n",
       "      <td>NaN</td>\n",
       "      <td>NaN</td>\n",
       "      <td>20.125000</td>\n",
       "      <td>0.000000</td>\n",
       "      <td>0.000000</td>\n",
       "      <td>NaN</td>\n",
       "      <td>7.910400</td>\n",
       "      <td>NaN</td>\n",
       "      <td>NaN</td>\n",
       "    </tr>\n",
       "    <tr>\n",
       "      <th>50%</th>\n",
       "      <td>446.000000</td>\n",
       "      <td>0.000000</td>\n",
       "      <td>3.000000</td>\n",
       "      <td>NaN</td>\n",
       "      <td>NaN</td>\n",
       "      <td>28.000000</td>\n",
       "      <td>0.000000</td>\n",
       "      <td>0.000000</td>\n",
       "      <td>NaN</td>\n",
       "      <td>14.454200</td>\n",
       "      <td>NaN</td>\n",
       "      <td>NaN</td>\n",
       "    </tr>\n",
       "    <tr>\n",
       "      <th>75%</th>\n",
       "      <td>668.500000</td>\n",
       "      <td>1.000000</td>\n",
       "      <td>3.000000</td>\n",
       "      <td>NaN</td>\n",
       "      <td>NaN</td>\n",
       "      <td>38.000000</td>\n",
       "      <td>1.000000</td>\n",
       "      <td>0.000000</td>\n",
       "      <td>NaN</td>\n",
       "      <td>31.000000</td>\n",
       "      <td>NaN</td>\n",
       "      <td>NaN</td>\n",
       "    </tr>\n",
       "    <tr>\n",
       "      <th>max</th>\n",
       "      <td>891.000000</td>\n",
       "      <td>1.000000</td>\n",
       "      <td>3.000000</td>\n",
       "      <td>NaN</td>\n",
       "      <td>NaN</td>\n",
       "      <td>80.000000</td>\n",
       "      <td>8.000000</td>\n",
       "      <td>6.000000</td>\n",
       "      <td>NaN</td>\n",
       "      <td>512.329200</td>\n",
       "      <td>NaN</td>\n",
       "      <td>NaN</td>\n",
       "    </tr>\n",
       "  </tbody>\n",
       "</table>\n",
       "</div>"
      ],
      "text/plain": [
       "        PassengerId    Survived      Pclass                     Name   Sex  \\\n",
       "count    891.000000  891.000000  891.000000                      891   891   \n",
       "unique          NaN         NaN         NaN                      891     2   \n",
       "top             NaN         NaN         NaN  Braund, Mr. Owen Harris  male   \n",
       "freq            NaN         NaN         NaN                        1   577   \n",
       "mean     446.000000    0.383838    2.308642                      NaN   NaN   \n",
       "std      257.353842    0.486592    0.836071                      NaN   NaN   \n",
       "min        1.000000    0.000000    1.000000                      NaN   NaN   \n",
       "25%      223.500000    0.000000    2.000000                      NaN   NaN   \n",
       "50%      446.000000    0.000000    3.000000                      NaN   NaN   \n",
       "75%      668.500000    1.000000    3.000000                      NaN   NaN   \n",
       "max      891.000000    1.000000    3.000000                      NaN   NaN   \n",
       "\n",
       "               Age       SibSp       Parch  Ticket        Fare    Cabin  \\\n",
       "count   714.000000  891.000000  891.000000     891  891.000000      204   \n",
       "unique         NaN         NaN         NaN     681         NaN      147   \n",
       "top            NaN         NaN         NaN  347082         NaN  B96 B98   \n",
       "freq           NaN         NaN         NaN       7         NaN        4   \n",
       "mean     29.699118    0.523008    0.381594     NaN   32.204208      NaN   \n",
       "std      14.526497    1.102743    0.806057     NaN   49.693429      NaN   \n",
       "min       0.420000    0.000000    0.000000     NaN    0.000000      NaN   \n",
       "25%      20.125000    0.000000    0.000000     NaN    7.910400      NaN   \n",
       "50%      28.000000    0.000000    0.000000     NaN   14.454200      NaN   \n",
       "75%      38.000000    1.000000    0.000000     NaN   31.000000      NaN   \n",
       "max      80.000000    8.000000    6.000000     NaN  512.329200      NaN   \n",
       "\n",
       "       Embarked  \n",
       "count       889  \n",
       "unique        3  \n",
       "top           S  \n",
       "freq        644  \n",
       "mean        NaN  \n",
       "std         NaN  \n",
       "min         NaN  \n",
       "25%         NaN  \n",
       "50%         NaN  \n",
       "75%         NaN  \n",
       "max         NaN  "
      ]
     },
     "execution_count": 4,
     "metadata": {},
     "output_type": "execute_result"
    }
   ],
   "source": [
    "train.describe(include='all')"
   ]
  },
  {
   "cell_type": "markdown",
   "id": "373a8296",
   "metadata": {},
   "source": [
    "- There are total 891 observations/rows.\n",
    "- Age and embarked column data are missing.\n",
    "- A significant amount of Cabin data are missing which renders it useless as a feature."
   ]
  },
  {
   "cell_type": "markdown",
   "id": "c31fcce2",
   "metadata": {},
   "source": [
    "The isnull() method combined with the sum() method gives us the exact number of missing values"
   ]
  },
  {
   "cell_type": "code",
   "execution_count": 5,
   "id": "56e629b4",
   "metadata": {},
   "outputs": [
    {
     "data": {
      "text/plain": [
       "PassengerId      0\n",
       "Survived         0\n",
       "Pclass           0\n",
       "Name             0\n",
       "Sex              0\n",
       "Age            177\n",
       "SibSp            0\n",
       "Parch            0\n",
       "Ticket           0\n",
       "Fare             0\n",
       "Cabin          687\n",
       "Embarked         2\n",
       "dtype: int64"
      ]
     },
     "execution_count": 5,
     "metadata": {},
     "output_type": "execute_result"
    }
   ],
   "source": [
    "train.isnull().sum()"
   ]
  },
  {
   "cell_type": "markdown",
   "id": "361fa763",
   "metadata": {},
   "source": [
    "Now we copy this dataframe to a new variable: df_train on which we will do our feature engineering and cleaning on"
   ]
  },
  {
   "cell_type": "code",
   "execution_count": 6,
   "id": "2a8da909",
   "metadata": {},
   "outputs": [],
   "source": [
    "df_train = train.copy()"
   ]
  },
  {
   "cell_type": "markdown",
   "id": "624da42e",
   "metadata": {},
   "source": [
    "<br>"
   ]
  },
  {
   "cell_type": "markdown",
   "id": "b3949f5f",
   "metadata": {},
   "source": [
    "# Dealing with missing values\n",
    "\n",
    "We need to deal with missing values of - Age, Embarked and Cabin columns.\n",
    "- For age, we will have to think of some imputing method to fill the values with since deleting the 177 rows will cost us too much information.\n",
    "- We can afford to delete two rows where embarked column has missing values.\n",
    "- We will delete the entire Cabin column since it has no use for us whatsoever"
   ]
  },
  {
   "cell_type": "markdown",
   "id": "49623af2",
   "metadata": {},
   "source": [
    "First, we'll delete the Cabin column"
   ]
  },
  {
   "cell_type": "code",
   "execution_count": 7,
   "id": "6ce7183b",
   "metadata": {},
   "outputs": [],
   "source": [
    "df_train.drop('Cabin',axis=1,inplace=True)"
   ]
  },
  {
   "cell_type": "markdown",
   "id": "b038d759",
   "metadata": {},
   "source": [
    "### Imputing method for filling missing age column\n",
    "\n",
    "We can easily fill the missing age values with the mean of all ages present. But this will not be accurate since the range of age is pretty large (0-80 years).\n",
    "\n",
    "Instead, we'll use a column in the current dataframe that will help us classify the age range of the person. While this information is not straightforwardly available, if we look carefully at the name column, we can see that it's written in a specific order: \n",
    "#### Surname, Title. Name\n",
    "\n",
    "What does the title tell us?\n",
    "\n",
    "- Master: A young boy\n",
    "- Miss: A young girl\n",
    "- Mr: A man\n",
    "- Mrs: A married woman\n",
    "- And so on...\n",
    "\n",
    "(Note: There is no hard and fast definition for some of these titles and as of the present time, they are used flexibly)\n",
    "\n",
    "Thus, we can extract this title information from the name and calculate the individual mean for people with these titles and then assign this mean to the age value. This way, the error will be reduced as compared to assigning the whole dataset mean."
   ]
  },
  {
   "cell_type": "code",
   "execution_count": 8,
   "id": "acb05691",
   "metadata": {},
   "outputs": [],
   "source": [
    "#Using split method of strings, we create a list using ',' as the delimiter and then extract the name followed by another split\n",
    "#with '.' as the delimiter and strip the whitespaces of the 0th index which is our title\n",
    "\n",
    "df_train['Title'] = df_train['Name'].apply(lambda x: x.split(',')[1].split('.')[0].strip())"
   ]
  },
  {
   "cell_type": "code",
   "execution_count": 9,
   "id": "0e4f9e5e",
   "metadata": {},
   "outputs": [
    {
     "data": {
      "text/plain": [
       "array(['Mr', 'Mrs', 'Miss', 'Master', 'Don', 'Rev', 'Dr', 'Mme', 'Ms',\n",
       "       'Major', 'Lady', 'Sir', 'Mlle', 'Col', 'Capt', 'the Countess',\n",
       "       'Jonkheer'], dtype=object)"
      ]
     },
     "execution_count": 9,
     "metadata": {},
     "output_type": "execute_result"
    }
   ],
   "source": [
    "df_train['Title'].unique()"
   ]
  },
  {
   "cell_type": "markdown",
   "id": "ff106ee3",
   "metadata": {},
   "source": [
    "As we can see, we have 17 unique titles"
   ]
  },
  {
   "cell_type": "markdown",
   "id": "2a9c71c7",
   "metadata": {},
   "source": [
    "Now we use the groupby method along with the transform method to calculate the means of the ages when grouped according the titles listed above. Using transform, we then assign this mean value to each of the missing values in Age column in the dataframe."
   ]
  },
  {
   "cell_type": "code",
   "execution_count": 10,
   "id": "d0237f89",
   "metadata": {},
   "outputs": [],
   "source": [
    "df_train['Age'] = df_train['Age'].fillna(df_train.groupby('Title')['Age'].transform('mean'))"
   ]
  },
  {
   "cell_type": "markdown",
   "id": "f75ef860",
   "metadata": {},
   "source": [
    "With all the missing age values filled, all that's left are the two embarked missing values. We'll use the dropna() method to delete those two rows."
   ]
  },
  {
   "cell_type": "code",
   "execution_count": 11,
   "id": "872b22c8",
   "metadata": {},
   "outputs": [],
   "source": [
    "df_train.dropna(subset=['Embarked'],inplace=True)"
   ]
  },
  {
   "cell_type": "markdown",
   "id": "9e979b4a",
   "metadata": {},
   "source": [
    "Now we have finally dealt with all the missing values. Let's confirm this by using the isnull() method again."
   ]
  },
  {
   "cell_type": "code",
   "execution_count": 12,
   "id": "2fdaadc3",
   "metadata": {},
   "outputs": [
    {
     "data": {
      "text/plain": [
       "PassengerId    0\n",
       "Survived       0\n",
       "Pclass         0\n",
       "Name           0\n",
       "Sex            0\n",
       "Age            0\n",
       "SibSp          0\n",
       "Parch          0\n",
       "Ticket         0\n",
       "Fare           0\n",
       "Embarked       0\n",
       "Title          0\n",
       "dtype: int64"
      ]
     },
     "execution_count": 12,
     "metadata": {},
     "output_type": "execute_result"
    }
   ],
   "source": [
    "df_train.isnull().sum()"
   ]
  },
  {
   "cell_type": "markdown",
   "id": "64f36e4d",
   "metadata": {},
   "source": [
    "<br>"
   ]
  },
  {
   "cell_type": "markdown",
   "id": "6af78b77",
   "metadata": {},
   "source": [
    "# Feature Extraction\n",
    "\n",
    "In this section we will try to extract some information from the tickets column, after which we will see what we can do with the title column as well and finally end the section with indtroducing a FamilySize column to our data."
   ]
  },
  {
   "cell_type": "markdown",
   "id": "7b226e86",
   "metadata": {},
   "source": [
    "**Ticket Type**\n",
    "\n",
    "As of now, we are unsure as to what type of information we are expecting. So we will start by just exploring the ticket column and what kind of data it holds."
   ]
  },
  {
   "cell_type": "code",
   "execution_count": 13,
   "id": "eb1a3856",
   "metadata": {},
   "outputs": [
    {
     "data": {
      "text/plain": [
       "0           A/5 21171\n",
       "1            PC 17599\n",
       "2    STON/O2. 3101282\n",
       "3              113803\n",
       "4              373450\n",
       "Name: Ticket, dtype: object"
      ]
     },
     "execution_count": 13,
     "metadata": {},
     "output_type": "execute_result"
    }
   ],
   "source": [
    "df_train['Ticket'].head()"
   ]
  },
  {
   "cell_type": "markdown",
   "id": "38d9d39b",
   "metadata": {},
   "source": [
    "It seems like it has a ticket number in all the tickets but in some tickets has some kind of alpha-numeric code leading the ticket number.\n",
    "\n",
    "Let's try to extract this code."
   ]
  },
  {
   "cell_type": "code",
   "execution_count": 14,
   "id": "9cb8c470",
   "metadata": {},
   "outputs": [],
   "source": [
    "#We store the aplha-numeric code in the newly created column Ticket_type. If no code exists we'll assign it a '0'\n",
    "\n",
    "df_train['Ticket_type'] = df_train['Ticket'].apply(lambda x: x.split()[0] if len(x.split())>1 else '0')"
   ]
  },
  {
   "cell_type": "code",
   "execution_count": 15,
   "id": "e7dc431c",
   "metadata": {},
   "outputs": [
    {
     "data": {
      "text/plain": [
       "array(['A/5', 'PC', 'STON/O2.', '0', 'PP', 'A/5.', 'C.A.', 'A./5.',\n",
       "       'SC/Paris', 'S.C./A.4.', 'A/4.', 'CA', 'S.P.', 'S.O.C.', 'SO/C',\n",
       "       'W./C.', 'SOTON/OQ', 'W.E.P.', 'STON/O', 'A4.', 'C', 'SOTON/O.Q.',\n",
       "       'SC/PARIS', 'S.O.P.', 'A.5.', 'Fa', 'CA.', 'F.C.C.', 'W/C',\n",
       "       'SW/PP', 'SCO/W', 'P/PP', 'SC', 'SC/AH', 'A/S', 'A/4', 'WE/P',\n",
       "       'S.W./PP', 'S.O./P.P.', 'F.C.', 'SOTON/O2', 'S.C./PARIS',\n",
       "       'C.A./SOTON'], dtype=object)"
      ]
     },
     "execution_count": 15,
     "metadata": {},
     "output_type": "execute_result"
    }
   ],
   "source": [
    "df_train['Ticket_type'].unique()"
   ]
  },
  {
   "cell_type": "markdown",
   "id": "cae73ff0",
   "metadata": {},
   "source": [
    "From the above list we can see all the ticket types existing in the dataset. Observing the names of the tickets we can see that they represent a location; probably a pair of boarding and destination points but we are not sure. Later in the EDA section we'll see what information this column can give us.\n",
    "\n",
    "Since the number of data for all these codes is not sufficient, it may not be a good idea to consider them in the current form. Instead, we will group the ticket type by using just the initials of the ticket code."
   ]
  },
  {
   "cell_type": "code",
   "execution_count": 16,
   "id": "3d072927",
   "metadata": {},
   "outputs": [],
   "source": [
    "df_train['Ticket_type'] = df_train['Ticket_type'].apply(lambda x: x[0])"
   ]
  },
  {
   "cell_type": "code",
   "execution_count": 17,
   "id": "7589f0d0",
   "metadata": {},
   "outputs": [
    {
     "data": {
      "text/plain": [
       "0    663\n",
       "P     65\n",
       "S     65\n",
       "C     47\n",
       "A     29\n",
       "W     13\n",
       "F      7\n",
       "Name: Ticket_type, dtype: int64"
      ]
     },
     "execution_count": 17,
     "metadata": {},
     "output_type": "execute_result"
    }
   ],
   "source": [
    "df_train['Ticket_type'].value_counts()"
   ]
  },
  {
   "cell_type": "markdown",
   "id": "407bf537",
   "metadata": {},
   "source": [
    "Now we have 7 groups of ticket type but we still have less data in A, W and F types. Let's group them together and create a single type named AFW"
   ]
  },
  {
   "cell_type": "code",
   "execution_count": 18,
   "id": "1e691edb",
   "metadata": {},
   "outputs": [],
   "source": [
    "df_train['Ticket_type'] = df_train['Ticket_type'].apply(lambda x: 'AFW' if x in 'AFW' else x)"
   ]
  },
  {
   "cell_type": "code",
   "execution_count": 19,
   "id": "97cdde99",
   "metadata": {},
   "outputs": [
    {
     "data": {
      "text/html": [
       "<div>\n",
       "<style scoped>\n",
       "    .dataframe tbody tr th:only-of-type {\n",
       "        vertical-align: middle;\n",
       "    }\n",
       "\n",
       "    .dataframe tbody tr th {\n",
       "        vertical-align: top;\n",
       "    }\n",
       "\n",
       "    .dataframe thead th {\n",
       "        text-align: right;\n",
       "    }\n",
       "</style>\n",
       "<table border=\"1\" class=\"dataframe\">\n",
       "  <thead>\n",
       "    <tr style=\"text-align: right;\">\n",
       "      <th></th>\n",
       "      <th>PassengerId</th>\n",
       "      <th>Survived</th>\n",
       "      <th>Pclass</th>\n",
       "      <th>Name</th>\n",
       "      <th>Sex</th>\n",
       "      <th>Age</th>\n",
       "      <th>SibSp</th>\n",
       "      <th>Parch</th>\n",
       "      <th>Ticket</th>\n",
       "      <th>Fare</th>\n",
       "      <th>Embarked</th>\n",
       "      <th>Title</th>\n",
       "    </tr>\n",
       "    <tr>\n",
       "      <th>Ticket_type</th>\n",
       "      <th></th>\n",
       "      <th></th>\n",
       "      <th></th>\n",
       "      <th></th>\n",
       "      <th></th>\n",
       "      <th></th>\n",
       "      <th></th>\n",
       "      <th></th>\n",
       "      <th></th>\n",
       "      <th></th>\n",
       "      <th></th>\n",
       "      <th></th>\n",
       "    </tr>\n",
       "  </thead>\n",
       "  <tbody>\n",
       "    <tr>\n",
       "      <th>0</th>\n",
       "      <td>663</td>\n",
       "      <td>663</td>\n",
       "      <td>663</td>\n",
       "      <td>663</td>\n",
       "      <td>663</td>\n",
       "      <td>663</td>\n",
       "      <td>663</td>\n",
       "      <td>663</td>\n",
       "      <td>663</td>\n",
       "      <td>663</td>\n",
       "      <td>663</td>\n",
       "      <td>663</td>\n",
       "    </tr>\n",
       "    <tr>\n",
       "      <th>AFW</th>\n",
       "      <td>49</td>\n",
       "      <td>49</td>\n",
       "      <td>49</td>\n",
       "      <td>49</td>\n",
       "      <td>49</td>\n",
       "      <td>49</td>\n",
       "      <td>49</td>\n",
       "      <td>49</td>\n",
       "      <td>49</td>\n",
       "      <td>49</td>\n",
       "      <td>49</td>\n",
       "      <td>49</td>\n",
       "    </tr>\n",
       "    <tr>\n",
       "      <th>C</th>\n",
       "      <td>47</td>\n",
       "      <td>47</td>\n",
       "      <td>47</td>\n",
       "      <td>47</td>\n",
       "      <td>47</td>\n",
       "      <td>47</td>\n",
       "      <td>47</td>\n",
       "      <td>47</td>\n",
       "      <td>47</td>\n",
       "      <td>47</td>\n",
       "      <td>47</td>\n",
       "      <td>47</td>\n",
       "    </tr>\n",
       "    <tr>\n",
       "      <th>P</th>\n",
       "      <td>65</td>\n",
       "      <td>65</td>\n",
       "      <td>65</td>\n",
       "      <td>65</td>\n",
       "      <td>65</td>\n",
       "      <td>65</td>\n",
       "      <td>65</td>\n",
       "      <td>65</td>\n",
       "      <td>65</td>\n",
       "      <td>65</td>\n",
       "      <td>65</td>\n",
       "      <td>65</td>\n",
       "    </tr>\n",
       "    <tr>\n",
       "      <th>S</th>\n",
       "      <td>65</td>\n",
       "      <td>65</td>\n",
       "      <td>65</td>\n",
       "      <td>65</td>\n",
       "      <td>65</td>\n",
       "      <td>65</td>\n",
       "      <td>65</td>\n",
       "      <td>65</td>\n",
       "      <td>65</td>\n",
       "      <td>65</td>\n",
       "      <td>65</td>\n",
       "      <td>65</td>\n",
       "    </tr>\n",
       "  </tbody>\n",
       "</table>\n",
       "</div>"
      ],
      "text/plain": [
       "             PassengerId  Survived  Pclass  Name  Sex  Age  SibSp  Parch  \\\n",
       "Ticket_type                                                                \n",
       "0                    663       663     663   663  663  663    663    663   \n",
       "AFW                   49        49      49    49   49   49     49     49   \n",
       "C                     47        47      47    47   47   47     47     47   \n",
       "P                     65        65      65    65   65   65     65     65   \n",
       "S                     65        65      65    65   65   65     65     65   \n",
       "\n",
       "             Ticket  Fare  Embarked  Title  \n",
       "Ticket_type                                 \n",
       "0               663   663       663    663  \n",
       "AFW              49    49        49     49  \n",
       "C                47    47        47     47  \n",
       "P                65    65        65     65  \n",
       "S                65    65        65     65  "
      ]
     },
     "execution_count": 19,
     "metadata": {},
     "output_type": "execute_result"
    }
   ],
   "source": [
    "df_train.groupby('Ticket_type').count()"
   ]
  },
  {
   "cell_type": "markdown",
   "id": "651566da",
   "metadata": {},
   "source": [
    "Now we seem to have sufficient amount of data in each of the types."
   ]
  },
  {
   "cell_type": "markdown",
   "id": "b728f35d",
   "metadata": {},
   "source": [
    "**Title**\n",
    "\n",
    "Let's work on the title column now. \n",
    "\n",
    "From our previous imputation, we noted that there are 17 different titles. We will check how many passengers of each data type are present on the ship."
   ]
  },
  {
   "cell_type": "code",
   "execution_count": 20,
   "id": "b4b4320d",
   "metadata": {},
   "outputs": [
    {
     "data": {
      "text/plain": [
       "Mr              517\n",
       "Miss            181\n",
       "Mrs             124\n",
       "Master           40\n",
       "Dr                7\n",
       "Rev               6\n",
       "Mlle              2\n",
       "Major             2\n",
       "Col               2\n",
       "the Countess      1\n",
       "Capt              1\n",
       "Ms                1\n",
       "Sir               1\n",
       "Lady              1\n",
       "Mme               1\n",
       "Don               1\n",
       "Jonkheer          1\n",
       "Name: Title, dtype: int64"
      ]
     },
     "execution_count": 20,
     "metadata": {},
     "output_type": "execute_result"
    }
   ],
   "source": [
    "df_train['Title'].value_counts()"
   ]
  },
  {
   "cell_type": "markdown",
   "id": "f10f0e3b",
   "metadata": {},
   "source": [
    "As we can see here the majority of the titles are 'Mr', 'Miss', 'Mrs' and 'Master'. We can obviously put the other titles in these four groups.\n",
    "\n",
    "For that, we will use groupby using Title and Sex to identify the genders in case we are unsure of what some of the titles may mean."
   ]
  },
  {
   "cell_type": "code",
   "execution_count": 21,
   "id": "62a0a36f",
   "metadata": {},
   "outputs": [
    {
     "data": {
      "text/html": [
       "<div>\n",
       "<style scoped>\n",
       "    .dataframe tbody tr th:only-of-type {\n",
       "        vertical-align: middle;\n",
       "    }\n",
       "\n",
       "    .dataframe tbody tr th {\n",
       "        vertical-align: top;\n",
       "    }\n",
       "\n",
       "    .dataframe thead th {\n",
       "        text-align: right;\n",
       "    }\n",
       "</style>\n",
       "<table border=\"1\" class=\"dataframe\">\n",
       "  <thead>\n",
       "    <tr style=\"text-align: right;\">\n",
       "      <th></th>\n",
       "      <th></th>\n",
       "      <th>PassengerId</th>\n",
       "      <th>Survived</th>\n",
       "      <th>Pclass</th>\n",
       "      <th>Name</th>\n",
       "      <th>Age</th>\n",
       "      <th>SibSp</th>\n",
       "      <th>Parch</th>\n",
       "      <th>Ticket</th>\n",
       "      <th>Fare</th>\n",
       "      <th>Embarked</th>\n",
       "      <th>Ticket_type</th>\n",
       "    </tr>\n",
       "    <tr>\n",
       "      <th>Title</th>\n",
       "      <th>Sex</th>\n",
       "      <th></th>\n",
       "      <th></th>\n",
       "      <th></th>\n",
       "      <th></th>\n",
       "      <th></th>\n",
       "      <th></th>\n",
       "      <th></th>\n",
       "      <th></th>\n",
       "      <th></th>\n",
       "      <th></th>\n",
       "      <th></th>\n",
       "    </tr>\n",
       "  </thead>\n",
       "  <tbody>\n",
       "    <tr>\n",
       "      <th>Capt</th>\n",
       "      <th>male</th>\n",
       "      <td>1</td>\n",
       "      <td>1</td>\n",
       "      <td>1</td>\n",
       "      <td>1</td>\n",
       "      <td>1</td>\n",
       "      <td>1</td>\n",
       "      <td>1</td>\n",
       "      <td>1</td>\n",
       "      <td>1</td>\n",
       "      <td>1</td>\n",
       "      <td>1</td>\n",
       "    </tr>\n",
       "    <tr>\n",
       "      <th>Col</th>\n",
       "      <th>male</th>\n",
       "      <td>2</td>\n",
       "      <td>2</td>\n",
       "      <td>2</td>\n",
       "      <td>2</td>\n",
       "      <td>2</td>\n",
       "      <td>2</td>\n",
       "      <td>2</td>\n",
       "      <td>2</td>\n",
       "      <td>2</td>\n",
       "      <td>2</td>\n",
       "      <td>2</td>\n",
       "    </tr>\n",
       "    <tr>\n",
       "      <th>Don</th>\n",
       "      <th>male</th>\n",
       "      <td>1</td>\n",
       "      <td>1</td>\n",
       "      <td>1</td>\n",
       "      <td>1</td>\n",
       "      <td>1</td>\n",
       "      <td>1</td>\n",
       "      <td>1</td>\n",
       "      <td>1</td>\n",
       "      <td>1</td>\n",
       "      <td>1</td>\n",
       "      <td>1</td>\n",
       "    </tr>\n",
       "    <tr>\n",
       "      <th rowspan=\"2\" valign=\"top\">Dr</th>\n",
       "      <th>female</th>\n",
       "      <td>1</td>\n",
       "      <td>1</td>\n",
       "      <td>1</td>\n",
       "      <td>1</td>\n",
       "      <td>1</td>\n",
       "      <td>1</td>\n",
       "      <td>1</td>\n",
       "      <td>1</td>\n",
       "      <td>1</td>\n",
       "      <td>1</td>\n",
       "      <td>1</td>\n",
       "    </tr>\n",
       "    <tr>\n",
       "      <th>male</th>\n",
       "      <td>6</td>\n",
       "      <td>6</td>\n",
       "      <td>6</td>\n",
       "      <td>6</td>\n",
       "      <td>6</td>\n",
       "      <td>6</td>\n",
       "      <td>6</td>\n",
       "      <td>6</td>\n",
       "      <td>6</td>\n",
       "      <td>6</td>\n",
       "      <td>6</td>\n",
       "    </tr>\n",
       "    <tr>\n",
       "      <th>Jonkheer</th>\n",
       "      <th>male</th>\n",
       "      <td>1</td>\n",
       "      <td>1</td>\n",
       "      <td>1</td>\n",
       "      <td>1</td>\n",
       "      <td>1</td>\n",
       "      <td>1</td>\n",
       "      <td>1</td>\n",
       "      <td>1</td>\n",
       "      <td>1</td>\n",
       "      <td>1</td>\n",
       "      <td>1</td>\n",
       "    </tr>\n",
       "    <tr>\n",
       "      <th>Lady</th>\n",
       "      <th>female</th>\n",
       "      <td>1</td>\n",
       "      <td>1</td>\n",
       "      <td>1</td>\n",
       "      <td>1</td>\n",
       "      <td>1</td>\n",
       "      <td>1</td>\n",
       "      <td>1</td>\n",
       "      <td>1</td>\n",
       "      <td>1</td>\n",
       "      <td>1</td>\n",
       "      <td>1</td>\n",
       "    </tr>\n",
       "    <tr>\n",
       "      <th>Major</th>\n",
       "      <th>male</th>\n",
       "      <td>2</td>\n",
       "      <td>2</td>\n",
       "      <td>2</td>\n",
       "      <td>2</td>\n",
       "      <td>2</td>\n",
       "      <td>2</td>\n",
       "      <td>2</td>\n",
       "      <td>2</td>\n",
       "      <td>2</td>\n",
       "      <td>2</td>\n",
       "      <td>2</td>\n",
       "    </tr>\n",
       "    <tr>\n",
       "      <th>Master</th>\n",
       "      <th>male</th>\n",
       "      <td>40</td>\n",
       "      <td>40</td>\n",
       "      <td>40</td>\n",
       "      <td>40</td>\n",
       "      <td>40</td>\n",
       "      <td>40</td>\n",
       "      <td>40</td>\n",
       "      <td>40</td>\n",
       "      <td>40</td>\n",
       "      <td>40</td>\n",
       "      <td>40</td>\n",
       "    </tr>\n",
       "    <tr>\n",
       "      <th>Miss</th>\n",
       "      <th>female</th>\n",
       "      <td>181</td>\n",
       "      <td>181</td>\n",
       "      <td>181</td>\n",
       "      <td>181</td>\n",
       "      <td>181</td>\n",
       "      <td>181</td>\n",
       "      <td>181</td>\n",
       "      <td>181</td>\n",
       "      <td>181</td>\n",
       "      <td>181</td>\n",
       "      <td>181</td>\n",
       "    </tr>\n",
       "    <tr>\n",
       "      <th>Mlle</th>\n",
       "      <th>female</th>\n",
       "      <td>2</td>\n",
       "      <td>2</td>\n",
       "      <td>2</td>\n",
       "      <td>2</td>\n",
       "      <td>2</td>\n",
       "      <td>2</td>\n",
       "      <td>2</td>\n",
       "      <td>2</td>\n",
       "      <td>2</td>\n",
       "      <td>2</td>\n",
       "      <td>2</td>\n",
       "    </tr>\n",
       "    <tr>\n",
       "      <th>Mme</th>\n",
       "      <th>female</th>\n",
       "      <td>1</td>\n",
       "      <td>1</td>\n",
       "      <td>1</td>\n",
       "      <td>1</td>\n",
       "      <td>1</td>\n",
       "      <td>1</td>\n",
       "      <td>1</td>\n",
       "      <td>1</td>\n",
       "      <td>1</td>\n",
       "      <td>1</td>\n",
       "      <td>1</td>\n",
       "    </tr>\n",
       "    <tr>\n",
       "      <th>Mr</th>\n",
       "      <th>male</th>\n",
       "      <td>517</td>\n",
       "      <td>517</td>\n",
       "      <td>517</td>\n",
       "      <td>517</td>\n",
       "      <td>517</td>\n",
       "      <td>517</td>\n",
       "      <td>517</td>\n",
       "      <td>517</td>\n",
       "      <td>517</td>\n",
       "      <td>517</td>\n",
       "      <td>517</td>\n",
       "    </tr>\n",
       "    <tr>\n",
       "      <th>Mrs</th>\n",
       "      <th>female</th>\n",
       "      <td>124</td>\n",
       "      <td>124</td>\n",
       "      <td>124</td>\n",
       "      <td>124</td>\n",
       "      <td>124</td>\n",
       "      <td>124</td>\n",
       "      <td>124</td>\n",
       "      <td>124</td>\n",
       "      <td>124</td>\n",
       "      <td>124</td>\n",
       "      <td>124</td>\n",
       "    </tr>\n",
       "    <tr>\n",
       "      <th>Ms</th>\n",
       "      <th>female</th>\n",
       "      <td>1</td>\n",
       "      <td>1</td>\n",
       "      <td>1</td>\n",
       "      <td>1</td>\n",
       "      <td>1</td>\n",
       "      <td>1</td>\n",
       "      <td>1</td>\n",
       "      <td>1</td>\n",
       "      <td>1</td>\n",
       "      <td>1</td>\n",
       "      <td>1</td>\n",
       "    </tr>\n",
       "    <tr>\n",
       "      <th>Rev</th>\n",
       "      <th>male</th>\n",
       "      <td>6</td>\n",
       "      <td>6</td>\n",
       "      <td>6</td>\n",
       "      <td>6</td>\n",
       "      <td>6</td>\n",
       "      <td>6</td>\n",
       "      <td>6</td>\n",
       "      <td>6</td>\n",
       "      <td>6</td>\n",
       "      <td>6</td>\n",
       "      <td>6</td>\n",
       "    </tr>\n",
       "    <tr>\n",
       "      <th>Sir</th>\n",
       "      <th>male</th>\n",
       "      <td>1</td>\n",
       "      <td>1</td>\n",
       "      <td>1</td>\n",
       "      <td>1</td>\n",
       "      <td>1</td>\n",
       "      <td>1</td>\n",
       "      <td>1</td>\n",
       "      <td>1</td>\n",
       "      <td>1</td>\n",
       "      <td>1</td>\n",
       "      <td>1</td>\n",
       "    </tr>\n",
       "    <tr>\n",
       "      <th>the Countess</th>\n",
       "      <th>female</th>\n",
       "      <td>1</td>\n",
       "      <td>1</td>\n",
       "      <td>1</td>\n",
       "      <td>1</td>\n",
       "      <td>1</td>\n",
       "      <td>1</td>\n",
       "      <td>1</td>\n",
       "      <td>1</td>\n",
       "      <td>1</td>\n",
       "      <td>1</td>\n",
       "      <td>1</td>\n",
       "    </tr>\n",
       "  </tbody>\n",
       "</table>\n",
       "</div>"
      ],
      "text/plain": [
       "                     PassengerId  Survived  Pclass  Name  Age  SibSp  Parch  \\\n",
       "Title        Sex                                                              \n",
       "Capt         male              1         1       1     1    1      1      1   \n",
       "Col          male              2         2       2     2    2      2      2   \n",
       "Don          male              1         1       1     1    1      1      1   \n",
       "Dr           female            1         1       1     1    1      1      1   \n",
       "             male              6         6       6     6    6      6      6   \n",
       "Jonkheer     male              1         1       1     1    1      1      1   \n",
       "Lady         female            1         1       1     1    1      1      1   \n",
       "Major        male              2         2       2     2    2      2      2   \n",
       "Master       male             40        40      40    40   40     40     40   \n",
       "Miss         female          181       181     181   181  181    181    181   \n",
       "Mlle         female            2         2       2     2    2      2      2   \n",
       "Mme          female            1         1       1     1    1      1      1   \n",
       "Mr           male            517       517     517   517  517    517    517   \n",
       "Mrs          female          124       124     124   124  124    124    124   \n",
       "Ms           female            1         1       1     1    1      1      1   \n",
       "Rev          male              6         6       6     6    6      6      6   \n",
       "Sir          male              1         1       1     1    1      1      1   \n",
       "the Countess female            1         1       1     1    1      1      1   \n",
       "\n",
       "                     Ticket  Fare  Embarked  Ticket_type  \n",
       "Title        Sex                                          \n",
       "Capt         male         1     1         1            1  \n",
       "Col          male         2     2         2            2  \n",
       "Don          male         1     1         1            1  \n",
       "Dr           female       1     1         1            1  \n",
       "             male         6     6         6            6  \n",
       "Jonkheer     male         1     1         1            1  \n",
       "Lady         female       1     1         1            1  \n",
       "Major        male         2     2         2            2  \n",
       "Master       male        40    40        40           40  \n",
       "Miss         female     181   181       181          181  \n",
       "Mlle         female       2     2         2            2  \n",
       "Mme          female       1     1         1            1  \n",
       "Mr           male       517   517       517          517  \n",
       "Mrs          female     124   124       124          124  \n",
       "Ms           female       1     1         1            1  \n",
       "Rev          male         6     6         6            6  \n",
       "Sir          male         1     1         1            1  \n",
       "the Countess female       1     1         1            1  "
      ]
     },
     "execution_count": 21,
     "metadata": {},
     "output_type": "execute_result"
    }
   ],
   "source": [
    "df_train.groupby(['Title','Sex']).count()"
   ]
  },
  {
   "cell_type": "markdown",
   "id": "388b7e02",
   "metadata": {},
   "source": [
    "Now we create a dictionary to map the titles to just four of them. All the titles except doctor have a single gender. \n",
    "\n",
    "For the title 'Dr', we have 1 female and 6 males. Since we will have to assign a single title, we'll go with the most frequent strategy and assign it 'Mr'"
   ]
  },
  {
   "cell_type": "code",
   "execution_count": 22,
   "id": "2dda46be",
   "metadata": {},
   "outputs": [
    {
     "data": {
      "text/plain": [
       "{'Mr': 'Mr',\n",
       " 'Mrs': 'Mr',\n",
       " 'Miss': 'Mr',\n",
       " 'Master': 'Mr',\n",
       " 'Don': 'Mr',\n",
       " 'Rev': 'Mr',\n",
       " 'Dr': 'Mr',\n",
       " 'Mme': 'Mr',\n",
       " 'Ms': 'Mr',\n",
       " 'Major': 'Mr',\n",
       " 'Lady': 'Mr',\n",
       " 'Sir': 'Mr',\n",
       " 'Mlle': 'Mr',\n",
       " 'Col': 'Mr',\n",
       " 'Capt': 'Mr',\n",
       " 'the Countess': 'Mr',\n",
       " 'Jonkheer': 'Mr'}"
      ]
     },
     "execution_count": 22,
     "metadata": {},
     "output_type": "execute_result"
    }
   ],
   "source": [
    "# We will use the fromkeys method of dictionaries to create one with 'Mr' assigned as the default value.\n",
    "# Later we'll change the values accordingly\n",
    "\n",
    "title_dict = {}.fromkeys(df_train['Title'].unique(),'Mr')\n",
    "title_dict"
   ]
  },
  {
   "cell_type": "code",
   "execution_count": 23,
   "id": "e3645493",
   "metadata": {},
   "outputs": [],
   "source": [
    "# USing update method of dictionary to update some of the keys that don't have the value 'Mr'\n",
    "\n",
    "title_dict.update([('Mrs','Mrs'),('Miss','Miss'),('Master','Master'),('Mme','Mrs'),('Ms','Miss'),('Lady','Mrs'),\n",
    "                   ('Mlle','Mrs'),('the Countess','Mrs')])"
   ]
  },
  {
   "cell_type": "markdown",
   "id": "0b3f365e",
   "metadata": {},
   "source": [
    "Now map this data to the Title column of the data"
   ]
  },
  {
   "cell_type": "code",
   "execution_count": 24,
   "id": "3efad470",
   "metadata": {},
   "outputs": [],
   "source": [
    "df_train['Title'] = df_train['Title'].map(title_dict)"
   ]
  },
  {
   "cell_type": "code",
   "execution_count": 25,
   "id": "6dd3f125",
   "metadata": {},
   "outputs": [
    {
     "data": {
      "text/plain": [
       "array(['Mr', 'Mrs', 'Miss', 'Master'], dtype=object)"
      ]
     },
     "execution_count": 25,
     "metadata": {},
     "output_type": "execute_result"
    }
   ],
   "source": [
    "df_train['Title'].unique()"
   ]
  },
  {
   "cell_type": "markdown",
   "id": "a7d1873b",
   "metadata": {},
   "source": [
    "We finally have just 4 titles in our title column. We'll study this further in our EDA section to see if it can provide us with any additional information."
   ]
  },
  {
   "cell_type": "markdown",
   "id": "2ab311a1",
   "metadata": {},
   "source": [
    "**Family Size**\n",
    "\n",
    "Let's end this section by adding a family size column to the data. \n",
    "\n",
    "We have two columns named SibSp and Parch to quantify the number of Siblings/Spouse and Parents/Children one has on the ship with them.\n",
    "\n",
    "If we add these two numbers we will get the number of family members one has aboard the ship. This information is more relevant than having two separate columns of different family member types. Another thing to note here, all the members of the same family will have the same number of family members in this column, this makes it easy to cluster them as one family."
   ]
  },
  {
   "cell_type": "code",
   "execution_count": 26,
   "id": "6a9e28f1",
   "metadata": {},
   "outputs": [],
   "source": [
    "# Add the number of members and drop the two columns\n",
    "\n",
    "df_train['FamilySize'] = df_train['SibSp'] + df_train['Parch']\n",
    "df_train.drop(['SibSp','Parch'],axis=1,inplace=True)"
   ]
  },
  {
   "cell_type": "code",
   "execution_count": 27,
   "id": "fcdc1335",
   "metadata": {},
   "outputs": [
    {
     "data": {
      "text/plain": [
       "array([ 1,  0,  4,  2,  6,  5,  3,  7, 10], dtype=int64)"
      ]
     },
     "execution_count": 27,
     "metadata": {},
     "output_type": "execute_result"
    }
   ],
   "source": [
    "df_train['FamilySize'].unique()"
   ]
  },
  {
   "cell_type": "markdown",
   "id": "f777a041",
   "metadata": {},
   "source": [
    "We have passengers with as many as 10 family members with them on the ship. Let's get rid of the numbers and create bins to group them.\n",
    "\n",
    "0 - Alone\\\n",
    "1 to 3 - Small\\\n",
    "4 - 6 - Medium\\\n",
    "7 and more - Large"
   ]
  },
  {
   "cell_type": "code",
   "execution_count": 28,
   "id": "cbbe85e9",
   "metadata": {},
   "outputs": [],
   "source": [
    "# We will use the pandas cut method to create bins for different family size intervals\n",
    "\n",
    "df_train['FamilySize'] = pd.cut(df_train['FamilySize'],bins=[0,1,4,7,100],labels=['Alone','Small','Medium','Large'],right=False)"
   ]
  },
  {
   "cell_type": "code",
   "execution_count": 29,
   "id": "1b4f7262",
   "metadata": {},
   "outputs": [
    {
     "data": {
      "text/plain": [
       "['Small', 'Alone', 'Medium', 'Large']\n",
       "Categories (4, object): ['Alone' < 'Small' < 'Medium' < 'Large']"
      ]
     },
     "execution_count": 29,
     "metadata": {},
     "output_type": "execute_result"
    }
   ],
   "source": [
    "df_train['FamilySize'].unique()"
   ]
  },
  {
   "cell_type": "markdown",
   "id": "2820c2b3",
   "metadata": {},
   "source": [
    "So finally we have four family size groups. We will make use of this to visualize some nuances of the survival based on family size in our EDA section ahead."
   ]
  },
  {
   "cell_type": "markdown",
   "id": "f890abe4",
   "metadata": {},
   "source": [
    "**Cleaning rest of the data**\n",
    "\n",
    "We have no use of - PassengerId, Name, Ticket, Title columns anymore since we have already made use of it. So we will delete them now"
   ]
  },
  {
   "cell_type": "code",
   "execution_count": 30,
   "id": "19213149",
   "metadata": {},
   "outputs": [
    {
     "data": {
      "text/html": [
       "<div>\n",
       "<style scoped>\n",
       "    .dataframe tbody tr th:only-of-type {\n",
       "        vertical-align: middle;\n",
       "    }\n",
       "\n",
       "    .dataframe tbody tr th {\n",
       "        vertical-align: top;\n",
       "    }\n",
       "\n",
       "    .dataframe thead th {\n",
       "        text-align: right;\n",
       "    }\n",
       "</style>\n",
       "<table border=\"1\" class=\"dataframe\">\n",
       "  <thead>\n",
       "    <tr style=\"text-align: right;\">\n",
       "      <th></th>\n",
       "      <th>Survived</th>\n",
       "      <th>Pclass</th>\n",
       "      <th>Sex</th>\n",
       "      <th>Age</th>\n",
       "      <th>Fare</th>\n",
       "      <th>Embarked</th>\n",
       "      <th>Title</th>\n",
       "      <th>Ticket_type</th>\n",
       "      <th>FamilySize</th>\n",
       "    </tr>\n",
       "  </thead>\n",
       "  <tbody>\n",
       "    <tr>\n",
       "      <th>0</th>\n",
       "      <td>0</td>\n",
       "      <td>3</td>\n",
       "      <td>male</td>\n",
       "      <td>22.0</td>\n",
       "      <td>7.2500</td>\n",
       "      <td>S</td>\n",
       "      <td>Mr</td>\n",
       "      <td>AFW</td>\n",
       "      <td>Small</td>\n",
       "    </tr>\n",
       "    <tr>\n",
       "      <th>1</th>\n",
       "      <td>1</td>\n",
       "      <td>1</td>\n",
       "      <td>female</td>\n",
       "      <td>38.0</td>\n",
       "      <td>71.2833</td>\n",
       "      <td>C</td>\n",
       "      <td>Mrs</td>\n",
       "      <td>P</td>\n",
       "      <td>Small</td>\n",
       "    </tr>\n",
       "    <tr>\n",
       "      <th>2</th>\n",
       "      <td>1</td>\n",
       "      <td>3</td>\n",
       "      <td>female</td>\n",
       "      <td>26.0</td>\n",
       "      <td>7.9250</td>\n",
       "      <td>S</td>\n",
       "      <td>Miss</td>\n",
       "      <td>S</td>\n",
       "      <td>Alone</td>\n",
       "    </tr>\n",
       "    <tr>\n",
       "      <th>3</th>\n",
       "      <td>1</td>\n",
       "      <td>1</td>\n",
       "      <td>female</td>\n",
       "      <td>35.0</td>\n",
       "      <td>53.1000</td>\n",
       "      <td>S</td>\n",
       "      <td>Mrs</td>\n",
       "      <td>0</td>\n",
       "      <td>Small</td>\n",
       "    </tr>\n",
       "    <tr>\n",
       "      <th>4</th>\n",
       "      <td>0</td>\n",
       "      <td>3</td>\n",
       "      <td>male</td>\n",
       "      <td>35.0</td>\n",
       "      <td>8.0500</td>\n",
       "      <td>S</td>\n",
       "      <td>Mr</td>\n",
       "      <td>0</td>\n",
       "      <td>Alone</td>\n",
       "    </tr>\n",
       "  </tbody>\n",
       "</table>\n",
       "</div>"
      ],
      "text/plain": [
       "   Survived  Pclass     Sex   Age     Fare Embarked Title Ticket_type  \\\n",
       "0         0       3    male  22.0   7.2500        S    Mr         AFW   \n",
       "1         1       1  female  38.0  71.2833        C   Mrs           P   \n",
       "2         1       3  female  26.0   7.9250        S  Miss           S   \n",
       "3         1       1  female  35.0  53.1000        S   Mrs           0   \n",
       "4         0       3    male  35.0   8.0500        S    Mr           0   \n",
       "\n",
       "  FamilySize  \n",
       "0      Small  \n",
       "1      Small  \n",
       "2      Alone  \n",
       "3      Small  \n",
       "4      Alone  "
      ]
     },
     "execution_count": 30,
     "metadata": {},
     "output_type": "execute_result"
    }
   ],
   "source": [
    "df_train.drop(['PassengerId','Name','Ticket'],axis=1,inplace=True)\n",
    "\n",
    "#Resetting the index since we deleted a few rows earlier\n",
    "df_train.reset_index(drop=True,inplace=True)\n",
    "\n",
    "df_train.head()"
   ]
  },
  {
   "cell_type": "markdown",
   "id": "c479ac48",
   "metadata": {},
   "source": [
    "<br>"
   ]
  },
  {
   "cell_type": "markdown",
   "id": "2be19e49",
   "metadata": {},
   "source": [
    "# EDA\n",
    "\n",
    "We shall now explore the relationships between the features and the survival of the passengers in the titanic using some seaborn visualizations."
   ]
  },
  {
   "cell_type": "markdown",
   "id": "fc48330d",
   "metadata": {},
   "source": [
    "Let's start with visualizing what the distributions of our numerical features - Age and Fare - look like"
   ]
  },
  {
   "cell_type": "code",
   "execution_count": 31,
   "id": "22f518f7",
   "metadata": {},
   "outputs": [
    {
     "data": {
      "image/png": "[encoded data removed]",
      "text/plain": [
       "<Figure size 1080x360 with 2 Axes>"
      ]
     },
     "metadata": {},
     "output_type": "display_data"
    }
   ],
   "source": [
    "fig, (ax1,ax2) = plt.subplots(1,2,figsize=(15,5),sharey=True)\n",
    "\n",
    "sns.histplot(df_train['Age'],bins=30,ax=ax1)\n",
    "ax1.set_xlim([0,80])\n",
    "ax1.set_ylim([0,400])\n",
    "ax1.set_xlabel('Age',fontdict={'fontsize':13})\n",
    "ax1.set_ylabel('Number of Passengers',fontdict={'fontsize':13})\n",
    "\n",
    "sns.histplot(df_train['Fare'],ax=ax2,bins=40)\n",
    "ax2.set_xlim([0,500])\n",
    "ax2.set_xlabel('Fare',fontdict={'fontsize':13})\n",
    "\n",
    "plt.show()"
   ]
  },
  {
   "cell_type": "markdown",
   "id": "2510bd8d",
   "metadata": {},
   "source": [
    "**Observations:**\n",
    "\n",
    "1. From the age distribution, we see the age concentrated around 30 years and a smaller distribution below 10 years indicating all the child population.\n",
    "2. From the fare distribution, we see that most of the people paid less than 100 bucks. \n",
    "\n",
    "We will now dwelve into deeper visualizations based on Age, Sex, Title, Fare, Passenger class and Family Size."
   ]
  },
  {
   "cell_type": "markdown",
   "id": "d84c4e63",
   "metadata": {},
   "source": [
    "Let's begin the analysis with survival based on gender."
   ]
  },
  {
   "cell_type": "code",
   "execution_count": 32,
   "id": "54595075",
   "metadata": {},
   "outputs": [
    {
     "data": {
      "image/png": "[encoded data removed]",
      "text/plain": [
       "<Figure size 1080x360 with 2 Axes>"
      ]
     },
     "metadata": {},
     "output_type": "display_data"
    }
   ],
   "source": [
    "fig, (ax1,ax2) = plt.subplots(1,2,figsize=(15,5))\n",
    "\n",
    "sns.countplot(x='Sex',data=df_train,hue='Survived',ax=ax1)\n",
    "ax1.set_ylim([0,500])\n",
    "ax1.set_xlabel('Sex',fontdict={'fontsize':13})\n",
    "ax1.set_ylabel('Number of Passengers',fontdict={'fontsize':13})\n",
    "ax1.set_title('Countplot',fontdict={'fontsize':14})\n",
    "\n",
    "sns.barplot(x='Survived',y='Sex',data=df_train,errwidth=0,ax=ax2)\n",
    "ax2.set_xlim([0,1])\n",
    "ax2.set_xlabel('Survival %',fontdict={'fontsize':13})\n",
    "ax2.set_ylabel('',fontdict={'fontsize':13})\n",
    "ax2.set_title('Survival % based on genders',fontdict={'fontsize':14})\n",
    "\n",
    "plt.show()"
   ]
  },
  {
   "cell_type": "markdown",
   "id": "25bac63f",
   "metadata": {},
   "source": [
    "**Observation:** Clearly, more % of females survived than the males did since more priority must have been given to the women and children.\n",
    "\n",
    "**Conclusion 1:** Sex is an important feature to consider since gender is clearly influencing the chances of survival."
   ]
  },
  {
   "cell_type": "markdown",
   "id": "fc8abd6d",
   "metadata": {},
   "source": [
    "Now let's explore relationships between age and the title that we extracted in the feature extraction section"
   ]
  },
  {
   "cell_type": "code",
   "execution_count": 33,
   "id": "94baf1e4",
   "metadata": {},
   "outputs": [
    {
     "data": {
      "image/png": "[encoded data removed]",
      "text/plain": [
       "<Figure size 1080x360 with 2 Axes>"
      ]
     },
     "metadata": {},
     "output_type": "display_data"
    }
   ],
   "source": [
    "fig, (ax1,ax2) = plt.subplots(1,2,figsize=(15,5))\n",
    "\n",
    "sns.boxplot(x='Title',y='Age',data=df_train,ax=ax1)\n",
    "ax1.set_ylim([0,100])\n",
    "ax1.set_xlabel('Title',fontdict={'fontsize':13})\n",
    "ax1.set_ylabel('Age of Passengers',fontdict={'fontsize':13})\n",
    "ax1.set_title('Age Boxplot w.r.t Title',fontdict={'fontsize':14})\n",
    "\n",
    "sns.barplot(x='Title',y='Survived',data=df_train,ax=ax2)\n",
    "ax2.set_ylim([0,1])\n",
    "ax2.set_xlabel('Title',fontdict={'fontsize':13})\n",
    "ax2.set_ylabel('Survival %',fontdict={'fontsize':13})\n",
    "ax2.set_title('Survival % based on Title',fontdict={'fontsize':14})\n",
    "\n",
    "plt.show()"
   ]
  },
  {
   "cell_type": "markdown",
   "id": "938e6714",
   "metadata": {},
   "source": [
    "**Observations:**\n",
    "\n",
    "1. From the age boxplot, we see that how Mr and Mrs have higher meadian age while Miss has lower and Master has an even lower meadian age. This is precisely why we used the titles to impute the mean age of passengers since it explains the age to some extent.\n",
    "2. From the survival rates, we can observe that women (Mrs and Miss) and children (Miss and Master) have the highest survival rates as compared to adult men (Mr). This is obvious because the Title completely explains the gender of the passenger whose relation with survival we already know.\n",
    "\n",
    "**Conclusion 2:** Title feature can be dropped from our data since the information it gives is already explained by Age and Sex combined."
   ]
  },
  {
   "cell_type": "code",
   "execution_count": 34,
   "id": "5186e03c",
   "metadata": {},
   "outputs": [],
   "source": [
    "df_train.drop('Title',axis=1,inplace=True)"
   ]
  },
  {
   "cell_type": "code",
   "execution_count": 35,
   "id": "620e5ae5",
   "metadata": {},
   "outputs": [
    {
     "data": {
      "text/html": [
       "<div>\n",
       "<style scoped>\n",
       "    .dataframe tbody tr th:only-of-type {\n",
       "        vertical-align: middle;\n",
       "    }\n",
       "\n",
       "    .dataframe tbody tr th {\n",
       "        vertical-align: top;\n",
       "    }\n",
       "\n",
       "    .dataframe thead th {\n",
       "        text-align: right;\n",
       "    }\n",
       "</style>\n",
       "<table border=\"1\" class=\"dataframe\">\n",
       "  <thead>\n",
       "    <tr style=\"text-align: right;\">\n",
       "      <th></th>\n",
       "      <th>Survived</th>\n",
       "      <th>Pclass</th>\n",
       "      <th>Sex</th>\n",
       "      <th>Age</th>\n",
       "      <th>Fare</th>\n",
       "      <th>Embarked</th>\n",
       "      <th>Ticket_type</th>\n",
       "      <th>FamilySize</th>\n",
       "    </tr>\n",
       "  </thead>\n",
       "  <tbody>\n",
       "    <tr>\n",
       "      <th>0</th>\n",
       "      <td>0</td>\n",
       "      <td>3</td>\n",
       "      <td>male</td>\n",
       "      <td>22.0</td>\n",
       "      <td>7.2500</td>\n",
       "      <td>S</td>\n",
       "      <td>AFW</td>\n",
       "      <td>Small</td>\n",
       "    </tr>\n",
       "    <tr>\n",
       "      <th>1</th>\n",
       "      <td>1</td>\n",
       "      <td>1</td>\n",
       "      <td>female</td>\n",
       "      <td>38.0</td>\n",
       "      <td>71.2833</td>\n",
       "      <td>C</td>\n",
       "      <td>P</td>\n",
       "      <td>Small</td>\n",
       "    </tr>\n",
       "    <tr>\n",
       "      <th>2</th>\n",
       "      <td>1</td>\n",
       "      <td>3</td>\n",
       "      <td>female</td>\n",
       "      <td>26.0</td>\n",
       "      <td>7.9250</td>\n",
       "      <td>S</td>\n",
       "      <td>S</td>\n",
       "      <td>Alone</td>\n",
       "    </tr>\n",
       "    <tr>\n",
       "      <th>3</th>\n",
       "      <td>1</td>\n",
       "      <td>1</td>\n",
       "      <td>female</td>\n",
       "      <td>35.0</td>\n",
       "      <td>53.1000</td>\n",
       "      <td>S</td>\n",
       "      <td>0</td>\n",
       "      <td>Small</td>\n",
       "    </tr>\n",
       "    <tr>\n",
       "      <th>4</th>\n",
       "      <td>0</td>\n",
       "      <td>3</td>\n",
       "      <td>male</td>\n",
       "      <td>35.0</td>\n",
       "      <td>8.0500</td>\n",
       "      <td>S</td>\n",
       "      <td>0</td>\n",
       "      <td>Alone</td>\n",
       "    </tr>\n",
       "  </tbody>\n",
       "</table>\n",
       "</div>"
      ],
      "text/plain": [
       "   Survived  Pclass     Sex   Age     Fare Embarked Ticket_type FamilySize\n",
       "0         0       3    male  22.0   7.2500        S         AFW      Small\n",
       "1         1       1  female  38.0  71.2833        C           P      Small\n",
       "2         1       3  female  26.0   7.9250        S           S      Alone\n",
       "3         1       1  female  35.0  53.1000        S           0      Small\n",
       "4         0       3    male  35.0   8.0500        S           0      Alone"
      ]
     },
     "execution_count": 35,
     "metadata": {},
     "output_type": "execute_result"
    }
   ],
   "source": [
    "df_train.head()"
   ]
  },
  {
   "cell_type": "markdown",
   "id": "eb053025",
   "metadata": {},
   "source": [
    "Now we will explore the relationships between Fare and Passenger Class "
   ]
  },
  {
   "cell_type": "code",
   "execution_count": 36,
   "id": "0cf9dfdf",
   "metadata": {},
   "outputs": [
    {
     "data": {
      "image/png": "[encoded data removed]",
      "text/plain": [
       "<Figure size 1080x360 with 2 Axes>"
      ]
     },
     "metadata": {},
     "output_type": "display_data"
    }
   ],
   "source": [
    "fig, (ax1,ax2) = plt.subplots(1,2,figsize=(15,5),sharex=True)\n",
    "\n",
    "sns.boxplot(x='Pclass',y='Fare',data=df_train,ax=ax1)\n",
    "ax1.set_ylim([0,200])\n",
    "ax1.set_xlabel('Passenger Class',fontdict={'fontsize':13})\n",
    "ax1.set_ylabel('Fare',fontdict={'fontsize':13})\n",
    "ax1.set_title('Fare Boxplot',fontdict={'fontsize':14})\n",
    "\n",
    "sns.barplot(x='Pclass',y='Survived',data=df_train,errwidth=0,ax=ax2)\n",
    "ax2.set_ylim([0,1])\n",
    "ax2.set_title('Survival % for different passenger class',fontdict={'fontsize':13})\n",
    "\n",
    "plt.show()"
   ]
  },
  {
   "cell_type": "markdown",
   "id": "8a682791",
   "metadata": {},
   "source": [
    "**Observations:**\n",
    "\n",
    "1. The higher (numerically lower) the passenger class, the higher is the fare.\n",
    "2. Passengers in higher (numerically lower) class have higher likelihood of survival.\n",
    "\n",
    "**Conclusion 3:** Passenger Class is another important feature we need to keep in our model since it influences chances of survival."
   ]
  },
  {
   "cell_type": "markdown",
   "id": "e49b4c66",
   "metadata": {},
   "source": [
    "Now we will see if we find any relationship between survival and the ticket type we extracted from our data."
   ]
  },
  {
   "cell_type": "code",
   "execution_count": 37,
   "id": "243265c9",
   "metadata": {},
   "outputs": [
    {
     "data": {
      "image/png": "[encoded data removed]",
      "text/plain": [
       "<Figure size 1080x360 with 2 Axes>"
      ]
     },
     "metadata": {},
     "output_type": "display_data"
    }
   ],
   "source": [
    "fig, (ax1,ax2) = plt.subplots(1,2,figsize=(15,5))\n",
    "\n",
    "sns.barplot(x='Ticket_type',y='Survived',data=df_train,errwidth=0,ax=ax1)\n",
    "ax1.set_title('Survival % for different ticket types',fontdict={'fontsize':14})\n",
    "ax1.set_ylim([0,1])\n",
    "ax1.set_xlabel('Ticket Type',fontdict={'fontsize':14})\n",
    "ax1.set_ylabel('Survival %',fontdict={'fontsize':14})\n",
    "\n",
    "\n",
    "sns.countplot(x='Ticket_type',data=df_train,hue='Pclass',ax=ax2)\n",
    "ax2.set_title('Countplot',fontdict={'fontsize':14})\n",
    "ax2.set_ylim([0,400])\n",
    "ax2.set_xlabel('Ticket Type',fontdict={'fontsize':14})\n",
    "ax2.set_ylabel('Number of Passengers',fontdict={'fontsize':14})\n",
    "\n",
    "plt.show()"
   ]
  },
  {
   "cell_type": "markdown",
   "id": "b944f7c7",
   "metadata": {},
   "source": [
    "**Observations:**\n",
    "\n",
    "1. We see a low survival rate for ticket type AFW while a very high one for ticket type P. Rest are somewhat similar.\n",
    "2. From the countplot, we can see why is this so. Ticket type AFW has most of the passengers in the Pclass 3 while ticket type P has most of the passengers in Pclass 1 which we already know has a higher rate of survival. This reflects in our ticket type survival rate as well.\n",
    "3. For the types S and C, we have similar number of passengers in Pcalss 2 and 3 but very less or none in Pclass 1.\n",
    "4. For type 0, most of the passengers are in PClass 3 but it still has higher survival rate than S or C. This is beacause type 0 also has significant amount of passengers in PClass 1 and 2 as well.\n",
    "\n",
    "**Conclusion 4:** We can safely say that Ticket Type is an important feature for our model since Pclass alone cannot completely explain the survival. That is to say, a passenger in PClass 1 with ticket type P has higher chances of survival than the one with Ticket Type AFW. As we can see, we also need the additional information about the ticket type to correctly identify the survival rate and not just base it on Pclass."
   ]
  },
  {
   "cell_type": "markdown",
   "id": "3e790727",
   "metadata": {},
   "source": [
    "We will end this EDA section with analysis of the FamilySize feature we extracted and see how the size affects the survival."
   ]
  },
  {
   "cell_type": "code",
   "execution_count": 38,
   "id": "e03b6eb3",
   "metadata": {},
   "outputs": [
    {
     "data": {
      "image/png": "[encoded data removed]",
      "text/plain": [
       "<Figure size 1080x360 with 2 Axes>"
      ]
     },
     "metadata": {},
     "output_type": "display_data"
    }
   ],
   "source": [
    "fig, (ax1,ax2) = plt.subplots(1,2,figsize=(15,5))\n",
    "\n",
    "sns.barplot(x='FamilySize',y='Survived',data=df_train,errwidth=0,ax=ax1)\n",
    "ax1.set_title('Survival % for different family size',fontdict={'fontsize':14})\n",
    "ax1.set_ylim([0,1])\n",
    "ax1.set_xlabel('Family Size',fontdict={'fontsize':14})\n",
    "ax1.set_ylabel('Survival %',fontdict={'fontsize':14})\n",
    "\n",
    "\n",
    "sns.countplot(x='FamilySize',data=df_train,hue='Pclass',ax=ax2)\n",
    "ax2.set_title('Countplot',fontdict={'fontsize':14})\n",
    "ax2.set_ylim([0,400])\n",
    "ax2.set_xlabel('Family Size',fontdict={'fontsize':14})\n",
    "ax2.set_ylabel('Number of Passengers',fontdict={'fontsize':14})\n",
    "\n",
    "plt.show()"
   ]
  },
  {
   "cell_type": "markdown",
   "id": "1a1c30ec",
   "metadata": {},
   "source": [
    "**Observations:**\n",
    "\n",
    "1. People who were with small families (1-3 members) had the highest survival rate.\n",
    "2. The larger the family, the lesser the chances to survive.\n",
    "3. Being alone has lesser chances of survival than being with a small family but higher then medium and large families.\n",
    "4. The passengers who were onboard with small families had similar number of people in all passenger classes. \n",
    "5. All other passengers had higher % of people in the PClass 3.\n",
    "\n",
    "**Conclusion 5:** Our grouping of family size has made it very simple to visualize the relationship between family size and survival. Since it explains the survival, we will keep it in our model."
   ]
  },
  {
   "cell_type": "markdown",
   "id": "9f962c01",
   "metadata": {},
   "source": [
    "<br>"
   ]
  },
  {
   "cell_type": "markdown",
   "id": "2b5872ce",
   "metadata": {},
   "source": [
    "# Data Cleaning and Feature Extraction for Test data\n",
    "\n",
    "This will be done in the exact same fashion for the test.csv as we did it for train.csv and won't be explained."
   ]
  },
  {
   "cell_type": "code",
   "execution_count": 39,
   "id": "1a435bea",
   "metadata": {},
   "outputs": [
    {
     "data": {
      "text/html": [
       "<div>\n",
       "<style scoped>\n",
       "    .dataframe tbody tr th:only-of-type {\n",
       "        vertical-align: middle;\n",
       "    }\n",
       "\n",
       "    .dataframe tbody tr th {\n",
       "        vertical-align: top;\n",
       "    }\n",
       "\n",
       "    .dataframe thead th {\n",
       "        text-align: right;\n",
       "    }\n",
       "</style>\n",
       "<table border=\"1\" class=\"dataframe\">\n",
       "  <thead>\n",
       "    <tr style=\"text-align: right;\">\n",
       "      <th></th>\n",
       "      <th>PassengerId</th>\n",
       "      <th>Pclass</th>\n",
       "      <th>Name</th>\n",
       "      <th>Sex</th>\n",
       "      <th>Age</th>\n",
       "      <th>SibSp</th>\n",
       "      <th>Parch</th>\n",
       "      <th>Ticket</th>\n",
       "      <th>Fare</th>\n",
       "      <th>Cabin</th>\n",
       "      <th>Embarked</th>\n",
       "    </tr>\n",
       "  </thead>\n",
       "  <tbody>\n",
       "    <tr>\n",
       "      <th>0</th>\n",
       "      <td>892</td>\n",
       "      <td>3</td>\n",
       "      <td>Kelly, Mr. James</td>\n",
       "      <td>male</td>\n",
       "      <td>34.5</td>\n",
       "      <td>0</td>\n",
       "      <td>0</td>\n",
       "      <td>330911</td>\n",
       "      <td>7.8292</td>\n",
       "      <td>NaN</td>\n",
       "      <td>Q</td>\n",
       "    </tr>\n",
       "    <tr>\n",
       "      <th>1</th>\n",
       "      <td>893</td>\n",
       "      <td>3</td>\n",
       "      <td>Wilkes, Mrs. James (Ellen Needs)</td>\n",
       "      <td>female</td>\n",
       "      <td>47.0</td>\n",
       "      <td>1</td>\n",
       "      <td>0</td>\n",
       "      <td>363272</td>\n",
       "      <td>7.0000</td>\n",
       "      <td>NaN</td>\n",
       "      <td>S</td>\n",
       "    </tr>\n",
       "    <tr>\n",
       "      <th>2</th>\n",
       "      <td>894</td>\n",
       "      <td>2</td>\n",
       "      <td>Myles, Mr. Thomas Francis</td>\n",
       "      <td>male</td>\n",
       "      <td>62.0</td>\n",
       "      <td>0</td>\n",
       "      <td>0</td>\n",
       "      <td>240276</td>\n",
       "      <td>9.6875</td>\n",
       "      <td>NaN</td>\n",
       "      <td>Q</td>\n",
       "    </tr>\n",
       "    <tr>\n",
       "      <th>3</th>\n",
       "      <td>895</td>\n",
       "      <td>3</td>\n",
       "      <td>Wirz, Mr. Albert</td>\n",
       "      <td>male</td>\n",
       "      <td>27.0</td>\n",
       "      <td>0</td>\n",
       "      <td>0</td>\n",
       "      <td>315154</td>\n",
       "      <td>8.6625</td>\n",
       "      <td>NaN</td>\n",
       "      <td>S</td>\n",
       "    </tr>\n",
       "    <tr>\n",
       "      <th>4</th>\n",
       "      <td>896</td>\n",
       "      <td>3</td>\n",
       "      <td>Hirvonen, Mrs. Alexander (Helga E Lindqvist)</td>\n",
       "      <td>female</td>\n",
       "      <td>22.0</td>\n",
       "      <td>1</td>\n",
       "      <td>1</td>\n",
       "      <td>3101298</td>\n",
       "      <td>12.2875</td>\n",
       "      <td>NaN</td>\n",
       "      <td>S</td>\n",
       "    </tr>\n",
       "  </tbody>\n",
       "</table>\n",
       "</div>"
      ],
      "text/plain": [
       "   PassengerId  Pclass                                          Name     Sex  \\\n",
       "0          892       3                              Kelly, Mr. James    male   \n",
       "1          893       3              Wilkes, Mrs. James (Ellen Needs)  female   \n",
       "2          894       2                     Myles, Mr. Thomas Francis    male   \n",
       "3          895       3                              Wirz, Mr. Albert    male   \n",
       "4          896       3  Hirvonen, Mrs. Alexander (Helga E Lindqvist)  female   \n",
       "\n",
       "    Age  SibSp  Parch   Ticket     Fare Cabin Embarked  \n",
       "0  34.5      0      0   330911   7.8292   NaN        Q  \n",
       "1  47.0      1      0   363272   7.0000   NaN        S  \n",
       "2  62.0      0      0   240276   9.6875   NaN        Q  \n",
       "3  27.0      0      0   315154   8.6625   NaN        S  \n",
       "4  22.0      1      1  3101298  12.2875   NaN        S  "
      ]
     },
     "execution_count": 39,
     "metadata": {},
     "output_type": "execute_result"
    }
   ],
   "source": [
    "test = pd.read_csv('test.csv')\n",
    "test.head()"
   ]
  },
  {
   "cell_type": "code",
   "execution_count": 40,
   "id": "e84a6e84",
   "metadata": {
    "scrolled": true
   },
   "outputs": [
    {
     "data": {
      "text/html": [
       "<div>\n",
       "<style scoped>\n",
       "    .dataframe tbody tr th:only-of-type {\n",
       "        vertical-align: middle;\n",
       "    }\n",
       "\n",
       "    .dataframe tbody tr th {\n",
       "        vertical-align: top;\n",
       "    }\n",
       "\n",
       "    .dataframe thead th {\n",
       "        text-align: right;\n",
       "    }\n",
       "</style>\n",
       "<table border=\"1\" class=\"dataframe\">\n",
       "  <thead>\n",
       "    <tr style=\"text-align: right;\">\n",
       "      <th></th>\n",
       "      <th>PassengerId</th>\n",
       "      <th>Pclass</th>\n",
       "      <th>Name</th>\n",
       "      <th>Sex</th>\n",
       "      <th>Age</th>\n",
       "      <th>SibSp</th>\n",
       "      <th>Parch</th>\n",
       "      <th>Ticket</th>\n",
       "      <th>Fare</th>\n",
       "      <th>Cabin</th>\n",
       "      <th>Embarked</th>\n",
       "    </tr>\n",
       "  </thead>\n",
       "  <tbody>\n",
       "    <tr>\n",
       "      <th>count</th>\n",
       "      <td>418.000000</td>\n",
       "      <td>418.000000</td>\n",
       "      <td>418</td>\n",
       "      <td>418</td>\n",
       "      <td>332.000000</td>\n",
       "      <td>418.000000</td>\n",
       "      <td>418.000000</td>\n",
       "      <td>418</td>\n",
       "      <td>417.000000</td>\n",
       "      <td>91</td>\n",
       "      <td>418</td>\n",
       "    </tr>\n",
       "    <tr>\n",
       "      <th>unique</th>\n",
       "      <td>NaN</td>\n",
       "      <td>NaN</td>\n",
       "      <td>418</td>\n",
       "      <td>2</td>\n",
       "      <td>NaN</td>\n",
       "      <td>NaN</td>\n",
       "      <td>NaN</td>\n",
       "      <td>363</td>\n",
       "      <td>NaN</td>\n",
       "      <td>76</td>\n",
       "      <td>3</td>\n",
       "    </tr>\n",
       "    <tr>\n",
       "      <th>top</th>\n",
       "      <td>NaN</td>\n",
       "      <td>NaN</td>\n",
       "      <td>Kelly, Mr. James</td>\n",
       "      <td>male</td>\n",
       "      <td>NaN</td>\n",
       "      <td>NaN</td>\n",
       "      <td>NaN</td>\n",
       "      <td>PC 17608</td>\n",
       "      <td>NaN</td>\n",
       "      <td>B57 B59 B63 B66</td>\n",
       "      <td>S</td>\n",
       "    </tr>\n",
       "    <tr>\n",
       "      <th>freq</th>\n",
       "      <td>NaN</td>\n",
       "      <td>NaN</td>\n",
       "      <td>1</td>\n",
       "      <td>266</td>\n",
       "      <td>NaN</td>\n",
       "      <td>NaN</td>\n",
       "      <td>NaN</td>\n",
       "      <td>5</td>\n",
       "      <td>NaN</td>\n",
       "      <td>3</td>\n",
       "      <td>270</td>\n",
       "    </tr>\n",
       "    <tr>\n",
       "      <th>mean</th>\n",
       "      <td>1100.500000</td>\n",
       "      <td>2.265550</td>\n",
       "      <td>NaN</td>\n",
       "      <td>NaN</td>\n",
       "      <td>30.272590</td>\n",
       "      <td>0.447368</td>\n",
       "      <td>0.392344</td>\n",
       "      <td>NaN</td>\n",
       "      <td>35.627188</td>\n",
       "      <td>NaN</td>\n",
       "      <td>NaN</td>\n",
       "    </tr>\n",
       "    <tr>\n",
       "      <th>std</th>\n",
       "      <td>120.810458</td>\n",
       "      <td>0.841838</td>\n",
       "      <td>NaN</td>\n",
       "      <td>NaN</td>\n",
       "      <td>14.181209</td>\n",
       "      <td>0.896760</td>\n",
       "      <td>0.981429</td>\n",
       "      <td>NaN</td>\n",
       "      <td>55.907576</td>\n",
       "      <td>NaN</td>\n",
       "      <td>NaN</td>\n",
       "    </tr>\n",
       "    <tr>\n",
       "      <th>min</th>\n",
       "      <td>892.000000</td>\n",
       "      <td>1.000000</td>\n",
       "      <td>NaN</td>\n",
       "      <td>NaN</td>\n",
       "      <td>0.170000</td>\n",
       "      <td>0.000000</td>\n",
       "      <td>0.000000</td>\n",
       "      <td>NaN</td>\n",
       "      <td>0.000000</td>\n",
       "      <td>NaN</td>\n",
       "      <td>NaN</td>\n",
       "    </tr>\n",
       "    <tr>\n",
       "      <th>25%</th>\n",
       "      <td>996.250000</td>\n",
       "      <td>1.000000</td>\n",
       "      <td>NaN</td>\n",
       "      <td>NaN</td>\n",
       "      <td>21.000000</td>\n",
       "      <td>0.000000</td>\n",
       "      <td>0.000000</td>\n",
       "      <td>NaN</td>\n",
       "      <td>7.895800</td>\n",
       "      <td>NaN</td>\n",
       "      <td>NaN</td>\n",
       "    </tr>\n",
       "    <tr>\n",
       "      <th>50%</th>\n",
       "      <td>1100.500000</td>\n",
       "      <td>3.000000</td>\n",
       "      <td>NaN</td>\n",
       "      <td>NaN</td>\n",
       "      <td>27.000000</td>\n",
       "      <td>0.000000</td>\n",
       "      <td>0.000000</td>\n",
       "      <td>NaN</td>\n",
       "      <td>14.454200</td>\n",
       "      <td>NaN</td>\n",
       "      <td>NaN</td>\n",
       "    </tr>\n",
       "    <tr>\n",
       "      <th>75%</th>\n",
       "      <td>1204.750000</td>\n",
       "      <td>3.000000</td>\n",
       "      <td>NaN</td>\n",
       "      <td>NaN</td>\n",
       "      <td>39.000000</td>\n",
       "      <td>1.000000</td>\n",
       "      <td>0.000000</td>\n",
       "      <td>NaN</td>\n",
       "      <td>31.500000</td>\n",
       "      <td>NaN</td>\n",
       "      <td>NaN</td>\n",
       "    </tr>\n",
       "    <tr>\n",
       "      <th>max</th>\n",
       "      <td>1309.000000</td>\n",
       "      <td>3.000000</td>\n",
       "      <td>NaN</td>\n",
       "      <td>NaN</td>\n",
       "      <td>76.000000</td>\n",
       "      <td>8.000000</td>\n",
       "      <td>9.000000</td>\n",
       "      <td>NaN</td>\n",
       "      <td>512.329200</td>\n",
       "      <td>NaN</td>\n",
       "      <td>NaN</td>\n",
       "    </tr>\n",
       "  </tbody>\n",
       "</table>\n",
       "</div>"
      ],
      "text/plain": [
       "        PassengerId      Pclass              Name   Sex         Age  \\\n",
       "count    418.000000  418.000000               418   418  332.000000   \n",
       "unique          NaN         NaN               418     2         NaN   \n",
       "top             NaN         NaN  Kelly, Mr. James  male         NaN   \n",
       "freq            NaN         NaN                 1   266         NaN   \n",
       "mean    1100.500000    2.265550               NaN   NaN   30.272590   \n",
       "std      120.810458    0.841838               NaN   NaN   14.181209   \n",
       "min      892.000000    1.000000               NaN   NaN    0.170000   \n",
       "25%      996.250000    1.000000               NaN   NaN   21.000000   \n",
       "50%     1100.500000    3.000000               NaN   NaN   27.000000   \n",
       "75%     1204.750000    3.000000               NaN   NaN   39.000000   \n",
       "max     1309.000000    3.000000               NaN   NaN   76.000000   \n",
       "\n",
       "             SibSp       Parch    Ticket        Fare            Cabin Embarked  \n",
       "count   418.000000  418.000000       418  417.000000               91      418  \n",
       "unique         NaN         NaN       363         NaN               76        3  \n",
       "top            NaN         NaN  PC 17608         NaN  B57 B59 B63 B66        S  \n",
       "freq           NaN         NaN         5         NaN                3      270  \n",
       "mean      0.447368    0.392344       NaN   35.627188              NaN      NaN  \n",
       "std       0.896760    0.981429       NaN   55.907576              NaN      NaN  \n",
       "min       0.000000    0.000000       NaN    0.000000              NaN      NaN  \n",
       "25%       0.000000    0.000000       NaN    7.895800              NaN      NaN  \n",
       "50%       0.000000    0.000000       NaN   14.454200              NaN      NaN  \n",
       "75%       1.000000    0.000000       NaN   31.500000              NaN      NaN  \n",
       "max       8.000000    9.000000       NaN  512.329200              NaN      NaN  "
      ]
     },
     "execution_count": 40,
     "metadata": {},
     "output_type": "execute_result"
    }
   ],
   "source": [
    "test.describe(include='all')"
   ]
  },
  {
   "cell_type": "markdown",
   "id": "24c5ca2c",
   "metadata": {},
   "source": [
    "Missing values for Age, Fare and Cabin"
   ]
  },
  {
   "cell_type": "code",
   "execution_count": 41,
   "id": "8122f977",
   "metadata": {},
   "outputs": [],
   "source": [
    "df_test = test.copy()\n",
    "\n",
    "#Extracting title information\n",
    "\n",
    "df_test['Title'] = df_test['Name'].apply(lambda x: x.split(',')[1].split('.')[0].strip())"
   ]
  },
  {
   "cell_type": "code",
   "execution_count": 42,
   "id": "811308db",
   "metadata": {},
   "outputs": [],
   "source": [
    "# Imputing missing Age values\n",
    "\n",
    "df_test['Age'] = df_test['Age'].fillna(df_test.groupby('Title')['Age'].transform('mean'))"
   ]
  },
  {
   "cell_type": "code",
   "execution_count": 43,
   "id": "64654a7a",
   "metadata": {},
   "outputs": [],
   "source": [
    "# Extracting ticket type information\n",
    "\n",
    "df_test['Ticket_type'] = df_test['Ticket'].apply(lambda x: x.split()[0] if len(x.split())>1 else '0')\n",
    "df_test['Ticket_type'] = df_test['Ticket_type'].apply(lambda x: x[0])\n",
    "df_test['Ticket_type'] = df_test['Ticket_type'].apply(lambda x: 'AFW' if x in 'AFW' else x)"
   ]
  },
  {
   "cell_type": "markdown",
   "id": "64d7963d",
   "metadata": {},
   "source": [
    "Since we have one missing fare data, we will fill that value using the fare mean of the Pclass that the passenger belongs."
   ]
  },
  {
   "cell_type": "code",
   "execution_count": 44,
   "id": "e286b1ed",
   "metadata": {},
   "outputs": [
    {
     "data": {
      "text/html": [
       "<div>\n",
       "<style scoped>\n",
       "    .dataframe tbody tr th:only-of-type {\n",
       "        vertical-align: middle;\n",
       "    }\n",
       "\n",
       "    .dataframe tbody tr th {\n",
       "        vertical-align: top;\n",
       "    }\n",
       "\n",
       "    .dataframe thead th {\n",
       "        text-align: right;\n",
       "    }\n",
       "</style>\n",
       "<table border=\"1\" class=\"dataframe\">\n",
       "  <thead>\n",
       "    <tr style=\"text-align: right;\">\n",
       "      <th></th>\n",
       "      <th>PassengerId</th>\n",
       "      <th>Pclass</th>\n",
       "      <th>Name</th>\n",
       "      <th>Sex</th>\n",
       "      <th>Age</th>\n",
       "      <th>SibSp</th>\n",
       "      <th>Parch</th>\n",
       "      <th>Ticket</th>\n",
       "      <th>Fare</th>\n",
       "      <th>Cabin</th>\n",
       "      <th>Embarked</th>\n",
       "      <th>Title</th>\n",
       "      <th>Ticket_type</th>\n",
       "    </tr>\n",
       "  </thead>\n",
       "  <tbody>\n",
       "    <tr>\n",
       "      <th>152</th>\n",
       "      <td>1044</td>\n",
       "      <td>3</td>\n",
       "      <td>Storey, Mr. Thomas</td>\n",
       "      <td>male</td>\n",
       "      <td>60.5</td>\n",
       "      <td>0</td>\n",
       "      <td>0</td>\n",
       "      <td>3701</td>\n",
       "      <td>NaN</td>\n",
       "      <td>NaN</td>\n",
       "      <td>S</td>\n",
       "      <td>Mr</td>\n",
       "      <td>0</td>\n",
       "    </tr>\n",
       "  </tbody>\n",
       "</table>\n",
       "</div>"
      ],
      "text/plain": [
       "     PassengerId  Pclass                Name   Sex   Age  SibSp  Parch Ticket  \\\n",
       "152         1044       3  Storey, Mr. Thomas  male  60.5      0      0   3701   \n",
       "\n",
       "     Fare Cabin Embarked Title Ticket_type  \n",
       "152   NaN   NaN        S    Mr           0  "
      ]
     },
     "execution_count": 44,
     "metadata": {},
     "output_type": "execute_result"
    }
   ],
   "source": [
    "df_test[df_test['Fare'].isnull()]"
   ]
  },
  {
   "cell_type": "code",
   "execution_count": 45,
   "id": "9daa5fd1",
   "metadata": {},
   "outputs": [],
   "source": [
    "df_test.fillna(df_test.groupby('Pclass')['Fare'].mean()[3],inplace=True)"
   ]
  },
  {
   "cell_type": "code",
   "execution_count": 46,
   "id": "490905bd",
   "metadata": {},
   "outputs": [],
   "source": [
    "# Extracting family size information and dropping SibSp and Parch columns\n",
    "\n",
    "df_test['FamilySize'] = df_test['SibSp'] + df_test['Parch']\n",
    "df_test.drop(['SibSp','Parch'],axis=1,inplace=True)\n",
    "df_test['FamilySize'] = pd.cut(df_test['FamilySize'],bins=[0,1,4,7,100],labels=['Alone','Small','Medium','Large'],right=False)"
   ]
  },
  {
   "cell_type": "code",
   "execution_count": 47,
   "id": "d2b68187",
   "metadata": {
    "scrolled": true
   },
   "outputs": [
    {
     "data": {
      "text/html": [
       "<div>\n",
       "<style scoped>\n",
       "    .dataframe tbody tr th:only-of-type {\n",
       "        vertical-align: middle;\n",
       "    }\n",
       "\n",
       "    .dataframe tbody tr th {\n",
       "        vertical-align: top;\n",
       "    }\n",
       "\n",
       "    .dataframe thead th {\n",
       "        text-align: right;\n",
       "    }\n",
       "</style>\n",
       "<table border=\"1\" class=\"dataframe\">\n",
       "  <thead>\n",
       "    <tr style=\"text-align: right;\">\n",
       "      <th></th>\n",
       "      <th>Pclass</th>\n",
       "      <th>Sex</th>\n",
       "      <th>Age</th>\n",
       "      <th>Fare</th>\n",
       "      <th>Embarked</th>\n",
       "      <th>Ticket_type</th>\n",
       "      <th>FamilySize</th>\n",
       "    </tr>\n",
       "  </thead>\n",
       "  <tbody>\n",
       "    <tr>\n",
       "      <th>0</th>\n",
       "      <td>3</td>\n",
       "      <td>male</td>\n",
       "      <td>34.5</td>\n",
       "      <td>7.8292</td>\n",
       "      <td>Q</td>\n",
       "      <td>0</td>\n",
       "      <td>Alone</td>\n",
       "    </tr>\n",
       "    <tr>\n",
       "      <th>1</th>\n",
       "      <td>3</td>\n",
       "      <td>female</td>\n",
       "      <td>47.0</td>\n",
       "      <td>7.0000</td>\n",
       "      <td>S</td>\n",
       "      <td>0</td>\n",
       "      <td>Small</td>\n",
       "    </tr>\n",
       "    <tr>\n",
       "      <th>2</th>\n",
       "      <td>2</td>\n",
       "      <td>male</td>\n",
       "      <td>62.0</td>\n",
       "      <td>9.6875</td>\n",
       "      <td>Q</td>\n",
       "      <td>0</td>\n",
       "      <td>Alone</td>\n",
       "    </tr>\n",
       "    <tr>\n",
       "      <th>3</th>\n",
       "      <td>3</td>\n",
       "      <td>male</td>\n",
       "      <td>27.0</td>\n",
       "      <td>8.6625</td>\n",
       "      <td>S</td>\n",
       "      <td>0</td>\n",
       "      <td>Alone</td>\n",
       "    </tr>\n",
       "    <tr>\n",
       "      <th>4</th>\n",
       "      <td>3</td>\n",
       "      <td>female</td>\n",
       "      <td>22.0</td>\n",
       "      <td>12.2875</td>\n",
       "      <td>S</td>\n",
       "      <td>0</td>\n",
       "      <td>Small</td>\n",
       "    </tr>\n",
       "  </tbody>\n",
       "</table>\n",
       "</div>"
      ],
      "text/plain": [
       "   Pclass     Sex   Age     Fare Embarked Ticket_type FamilySize\n",
       "0       3    male  34.5   7.8292        Q           0      Alone\n",
       "1       3  female  47.0   7.0000        S           0      Small\n",
       "2       2    male  62.0   9.6875        Q           0      Alone\n",
       "3       3    male  27.0   8.6625        S           0      Alone\n",
       "4       3  female  22.0  12.2875        S           0      Small"
      ]
     },
     "execution_count": 47,
     "metadata": {},
     "output_type": "execute_result"
    }
   ],
   "source": [
    "df_test.drop(['PassengerId','Name','Ticket','Cabin','Title'],axis=1,inplace=True)\n",
    "df_test.reset_index(drop=True,inplace=True)\n",
    "df_test.head()"
   ]
  },
  {
   "cell_type": "markdown",
   "id": "2e77661d",
   "metadata": {},
   "source": [
    "<br>"
   ]
  },
  {
   "cell_type": "markdown",
   "id": "6cc88992",
   "metadata": {},
   "source": [
    "# Data Preprocessing"
   ]
  },
  {
   "cell_type": "markdown",
   "id": "0f0db0e1",
   "metadata": {},
   "source": [
    "In this section, we will encode categorical variables and standardize the numerical ones to prepare for our ML models.\n",
    "\n",
    "Since each model takes different kinds of inputs, we will create the training sets accordingly.\n",
    "\n",
    "**Logistic Regression** - Standardization not necessary (sklearn implementation takes care of it)\\\n",
    "**K Nearest Neighbors** - Data standardized\\\n",
    "**Support Vector Machines** - Data standardized\\\n",
    "**Decision Tree and Random Forest** - Standardization not necessary\n",
    "\n",
    "Thus, we'll create two sets of inputs and targets based on the above model requirements"
   ]
  },
  {
   "cell_type": "code",
   "execution_count": 48,
   "id": "6fa7ddd6",
   "metadata": {
    "scrolled": true
   },
   "outputs": [
    {
     "data": {
      "text/html": [
       "<div>\n",
       "<style scoped>\n",
       "    .dataframe tbody tr th:only-of-type {\n",
       "        vertical-align: middle;\n",
       "    }\n",
       "\n",
       "    .dataframe tbody tr th {\n",
       "        vertical-align: top;\n",
       "    }\n",
       "\n",
       "    .dataframe thead th {\n",
       "        text-align: right;\n",
       "    }\n",
       "</style>\n",
       "<table border=\"1\" class=\"dataframe\">\n",
       "  <thead>\n",
       "    <tr style=\"text-align: right;\">\n",
       "      <th></th>\n",
       "      <th>Survived</th>\n",
       "      <th>Pclass</th>\n",
       "      <th>Sex</th>\n",
       "      <th>Age</th>\n",
       "      <th>Fare</th>\n",
       "      <th>Embarked</th>\n",
       "      <th>Ticket_type</th>\n",
       "      <th>FamilySize</th>\n",
       "    </tr>\n",
       "  </thead>\n",
       "  <tbody>\n",
       "    <tr>\n",
       "      <th>0</th>\n",
       "      <td>0</td>\n",
       "      <td>3</td>\n",
       "      <td>male</td>\n",
       "      <td>22.0</td>\n",
       "      <td>7.2500</td>\n",
       "      <td>S</td>\n",
       "      <td>AFW</td>\n",
       "      <td>Small</td>\n",
       "    </tr>\n",
       "    <tr>\n",
       "      <th>1</th>\n",
       "      <td>1</td>\n",
       "      <td>1</td>\n",
       "      <td>female</td>\n",
       "      <td>38.0</td>\n",
       "      <td>71.2833</td>\n",
       "      <td>C</td>\n",
       "      <td>P</td>\n",
       "      <td>Small</td>\n",
       "    </tr>\n",
       "    <tr>\n",
       "      <th>2</th>\n",
       "      <td>1</td>\n",
       "      <td>3</td>\n",
       "      <td>female</td>\n",
       "      <td>26.0</td>\n",
       "      <td>7.9250</td>\n",
       "      <td>S</td>\n",
       "      <td>S</td>\n",
       "      <td>Alone</td>\n",
       "    </tr>\n",
       "    <tr>\n",
       "      <th>3</th>\n",
       "      <td>1</td>\n",
       "      <td>1</td>\n",
       "      <td>female</td>\n",
       "      <td>35.0</td>\n",
       "      <td>53.1000</td>\n",
       "      <td>S</td>\n",
       "      <td>0</td>\n",
       "      <td>Small</td>\n",
       "    </tr>\n",
       "    <tr>\n",
       "      <th>4</th>\n",
       "      <td>0</td>\n",
       "      <td>3</td>\n",
       "      <td>male</td>\n",
       "      <td>35.0</td>\n",
       "      <td>8.0500</td>\n",
       "      <td>S</td>\n",
       "      <td>0</td>\n",
       "      <td>Alone</td>\n",
       "    </tr>\n",
       "  </tbody>\n",
       "</table>\n",
       "</div>"
      ],
      "text/plain": [
       "   Survived  Pclass     Sex   Age     Fare Embarked Ticket_type FamilySize\n",
       "0         0       3    male  22.0   7.2500        S         AFW      Small\n",
       "1         1       1  female  38.0  71.2833        C           P      Small\n",
       "2         1       3  female  26.0   7.9250        S           S      Alone\n",
       "3         1       1  female  35.0  53.1000        S           0      Small\n",
       "4         0       3    male  35.0   8.0500        S           0      Alone"
      ]
     },
     "execution_count": 48,
     "metadata": {},
     "output_type": "execute_result"
    }
   ],
   "source": [
    "df_train.head()"
   ]
  },
  {
   "cell_type": "markdown",
   "id": "54fa590d",
   "metadata": {},
   "source": [
    "Since our target in both the cases is going to be same, we'll set the target right now as y_train. Let's give the rest of the data the name x_train"
   ]
  },
  {
   "cell_type": "code",
   "execution_count": 49,
   "id": "9872b119",
   "metadata": {},
   "outputs": [],
   "source": [
    "y_train = df_train['Survived']\n",
    "x_train = df_train.drop(['Survived'],axis=1)"
   ]
  },
  {
   "cell_type": "markdown",
   "id": "3e8ba0d8",
   "metadata": {},
   "source": [
    "## One Hot Encoding"
   ]
  },
  {
   "cell_type": "markdown",
   "id": "34f3f57b",
   "metadata": {},
   "source": [
    "We'll create an object of the class ColumnTransformer to One Hot Encode our categorical variables"
   ]
  },
  {
   "cell_type": "code",
   "execution_count": 50,
   "id": "23b1f1e0",
   "metadata": {},
   "outputs": [],
   "source": [
    "clt = ColumnTransformer([('encoder',OneHotEncoder(sparse=False,handle_unknown='ignore'),[1,4,5,6])],\n",
    "                        remainder='passthrough',verbose_feature_names_out=False)"
   ]
  },
  {
   "cell_type": "markdown",
   "id": "a2f0243a",
   "metadata": {},
   "source": [
    "**Note:** Even though for Logistic Regression we are supposed to drop one category from the encoded feature to avoid multicollinearity, the sklearn implementation takes care of it even if we don't drop the variable. So we'll skip that step here."
   ]
  },
  {
   "cell_type": "code",
   "execution_count": 51,
   "id": "6db17796",
   "metadata": {},
   "outputs": [],
   "source": [
    "x_train = clt.fit_transform(x_train)"
   ]
  },
  {
   "cell_type": "markdown",
   "id": "2b7acc98",
   "metadata": {},
   "source": [
    "x_train_drop is just a 2-D array right now and we'll convert it to a dataframe for ease of viewing."
   ]
  },
  {
   "cell_type": "code",
   "execution_count": 52,
   "id": "5f4b3b41",
   "metadata": {},
   "outputs": [
    {
     "data": {
      "text/html": [
       "<div>\n",
       "<style scoped>\n",
       "    .dataframe tbody tr th:only-of-type {\n",
       "        vertical-align: middle;\n",
       "    }\n",
       "\n",
       "    .dataframe tbody tr th {\n",
       "        vertical-align: top;\n",
       "    }\n",
       "\n",
       "    .dataframe thead th {\n",
       "        text-align: right;\n",
       "    }\n",
       "</style>\n",
       "<table border=\"1\" class=\"dataframe\">\n",
       "  <thead>\n",
       "    <tr style=\"text-align: right;\">\n",
       "      <th></th>\n",
       "      <th>Sex_female</th>\n",
       "      <th>Sex_male</th>\n",
       "      <th>Embarked_C</th>\n",
       "      <th>Embarked_Q</th>\n",
       "      <th>Embarked_S</th>\n",
       "      <th>Ticket_type_0</th>\n",
       "      <th>Ticket_type_AFW</th>\n",
       "      <th>Ticket_type_C</th>\n",
       "      <th>Ticket_type_P</th>\n",
       "      <th>Ticket_type_S</th>\n",
       "      <th>FamilySize_Alone</th>\n",
       "      <th>FamilySize_Large</th>\n",
       "      <th>FamilySize_Medium</th>\n",
       "      <th>FamilySize_Small</th>\n",
       "      <th>Pclass</th>\n",
       "      <th>Age</th>\n",
       "      <th>Fare</th>\n",
       "    </tr>\n",
       "  </thead>\n",
       "  <tbody>\n",
       "    <tr>\n",
       "      <th>0</th>\n",
       "      <td>0.0</td>\n",
       "      <td>1.0</td>\n",
       "      <td>0.0</td>\n",
       "      <td>0.0</td>\n",
       "      <td>1.0</td>\n",
       "      <td>0.0</td>\n",
       "      <td>1.0</td>\n",
       "      <td>0.0</td>\n",
       "      <td>0.0</td>\n",
       "      <td>0.0</td>\n",
       "      <td>0.0</td>\n",
       "      <td>0.0</td>\n",
       "      <td>0.0</td>\n",
       "      <td>1.0</td>\n",
       "      <td>3.0</td>\n",
       "      <td>22.0</td>\n",
       "      <td>7.2500</td>\n",
       "    </tr>\n",
       "    <tr>\n",
       "      <th>1</th>\n",
       "      <td>1.0</td>\n",
       "      <td>0.0</td>\n",
       "      <td>1.0</td>\n",
       "      <td>0.0</td>\n",
       "      <td>0.0</td>\n",
       "      <td>0.0</td>\n",
       "      <td>0.0</td>\n",
       "      <td>0.0</td>\n",
       "      <td>1.0</td>\n",
       "      <td>0.0</td>\n",
       "      <td>0.0</td>\n",
       "      <td>0.0</td>\n",
       "      <td>0.0</td>\n",
       "      <td>1.0</td>\n",
       "      <td>1.0</td>\n",
       "      <td>38.0</td>\n",
       "      <td>71.2833</td>\n",
       "    </tr>\n",
       "    <tr>\n",
       "      <th>2</th>\n",
       "      <td>1.0</td>\n",
       "      <td>0.0</td>\n",
       "      <td>0.0</td>\n",
       "      <td>0.0</td>\n",
       "      <td>1.0</td>\n",
       "      <td>0.0</td>\n",
       "      <td>0.0</td>\n",
       "      <td>0.0</td>\n",
       "      <td>0.0</td>\n",
       "      <td>1.0</td>\n",
       "      <td>1.0</td>\n",
       "      <td>0.0</td>\n",
       "      <td>0.0</td>\n",
       "      <td>0.0</td>\n",
       "      <td>3.0</td>\n",
       "      <td>26.0</td>\n",
       "      <td>7.9250</td>\n",
       "    </tr>\n",
       "    <tr>\n",
       "      <th>3</th>\n",
       "      <td>1.0</td>\n",
       "      <td>0.0</td>\n",
       "      <td>0.0</td>\n",
       "      <td>0.0</td>\n",
       "      <td>1.0</td>\n",
       "      <td>1.0</td>\n",
       "      <td>0.0</td>\n",
       "      <td>0.0</td>\n",
       "      <td>0.0</td>\n",
       "      <td>0.0</td>\n",
       "      <td>0.0</td>\n",
       "      <td>0.0</td>\n",
       "      <td>0.0</td>\n",
       "      <td>1.0</td>\n",
       "      <td>1.0</td>\n",
       "      <td>35.0</td>\n",
       "      <td>53.1000</td>\n",
       "    </tr>\n",
       "    <tr>\n",
       "      <th>4</th>\n",
       "      <td>0.0</td>\n",
       "      <td>1.0</td>\n",
       "      <td>0.0</td>\n",
       "      <td>0.0</td>\n",
       "      <td>1.0</td>\n",
       "      <td>1.0</td>\n",
       "      <td>0.0</td>\n",
       "      <td>0.0</td>\n",
       "      <td>0.0</td>\n",
       "      <td>0.0</td>\n",
       "      <td>1.0</td>\n",
       "      <td>0.0</td>\n",
       "      <td>0.0</td>\n",
       "      <td>0.0</td>\n",
       "      <td>3.0</td>\n",
       "      <td>35.0</td>\n",
       "      <td>8.0500</td>\n",
       "    </tr>\n",
       "  </tbody>\n",
       "</table>\n",
       "</div>"
      ],
      "text/plain": [
       "   Sex_female  Sex_male  Embarked_C  Embarked_Q  Embarked_S  Ticket_type_0  \\\n",
       "0         0.0       1.0         0.0         0.0         1.0            0.0   \n",
       "1         1.0       0.0         1.0         0.0         0.0            0.0   \n",
       "2         1.0       0.0         0.0         0.0         1.0            0.0   \n",
       "3         1.0       0.0         0.0         0.0         1.0            1.0   \n",
       "4         0.0       1.0         0.0         0.0         1.0            1.0   \n",
       "\n",
       "   Ticket_type_AFW  Ticket_type_C  Ticket_type_P  Ticket_type_S  \\\n",
       "0              1.0            0.0            0.0            0.0   \n",
       "1              0.0            0.0            1.0            0.0   \n",
       "2              0.0            0.0            0.0            1.0   \n",
       "3              0.0            0.0            0.0            0.0   \n",
       "4              0.0            0.0            0.0            0.0   \n",
       "\n",
       "   FamilySize_Alone  FamilySize_Large  FamilySize_Medium  FamilySize_Small  \\\n",
       "0               0.0               0.0                0.0               1.0   \n",
       "1               0.0               0.0                0.0               1.0   \n",
       "2               1.0               0.0                0.0               0.0   \n",
       "3               0.0               0.0                0.0               1.0   \n",
       "4               1.0               0.0                0.0               0.0   \n",
       "\n",
       "   Pclass   Age     Fare  \n",
       "0     3.0  22.0   7.2500  \n",
       "1     1.0  38.0  71.2833  \n",
       "2     3.0  26.0   7.9250  \n",
       "3     1.0  35.0  53.1000  \n",
       "4     3.0  35.0   8.0500  "
      ]
     },
     "execution_count": 52,
     "metadata": {},
     "output_type": "execute_result"
    }
   ],
   "source": [
    "x_train = pd.DataFrame(x_train,columns=clt.get_feature_names_out())\n",
    "x_train.head()"
   ]
  },
  {
   "cell_type": "markdown",
   "id": "c01c8d61",
   "metadata": {},
   "source": [
    "We finally have a One Hot Encoded training set. We'll repeat similar steps for the test data as well.\n",
    "\n",
    "**Note:** Pclass column has data that has data type as int64. Even then, it is a categorical variable. We call such a category to be of the ordinal category."
   ]
  },
  {
   "cell_type": "markdown",
   "id": "cbefb33a",
   "metadata": {},
   "source": [
    "Now we will transform our test data using the already created transformer objects."
   ]
  },
  {
   "cell_type": "code",
   "execution_count": 53,
   "id": "6c28fb18",
   "metadata": {},
   "outputs": [],
   "source": [
    "x_test = clt.transform(df_test)\n",
    "x_test = pd.DataFrame(x_test,columns=clt.get_feature_names_out())"
   ]
  },
  {
   "cell_type": "markdown",
   "id": "83affd47",
   "metadata": {},
   "source": [
    "## Standardizing"
   ]
  },
  {
   "cell_type": "markdown",
   "id": "ad649b66",
   "metadata": {},
   "source": [
    "Here we standardize the numerical variables of our data - Pclass, Age, Fare"
   ]
  },
  {
   "cell_type": "code",
   "execution_count": 54,
   "id": "0ce20799",
   "metadata": {},
   "outputs": [],
   "source": [
    "# Saving the list of numerical and categorical names for ease of use\n",
    "\n",
    "num_col = ['Pclass', 'Age', 'Fare']\n",
    "\n",
    "cat_col = ['Sex_female', 'Sex_male', 'Embarked_C', 'Embarked_Q', 'Embarked_S',\n",
    "                'Ticket_type_0', 'Ticket_type_AFW', 'Ticket_type_C',\n",
    "                'Ticket_type_P', 'Ticket_type_S', 'FamilySize_Alone',\n",
    "                'FamilySize_Large', 'FamilySize_Medium', 'FamilySize_Small'] "
   ]
  },
  {
   "cell_type": "code",
   "execution_count": 55,
   "id": "fec9e564",
   "metadata": {},
   "outputs": [
    {
     "data": {
      "text/html": [
       "<div>\n",
       "<style scoped>\n",
       "    .dataframe tbody tr th:only-of-type {\n",
       "        vertical-align: middle;\n",
       "    }\n",
       "\n",
       "    .dataframe tbody tr th {\n",
       "        vertical-align: top;\n",
       "    }\n",
       "\n",
       "    .dataframe thead th {\n",
       "        text-align: right;\n",
       "    }\n",
       "</style>\n",
       "<table border=\"1\" class=\"dataframe\">\n",
       "  <thead>\n",
       "    <tr style=\"text-align: right;\">\n",
       "      <th></th>\n",
       "      <th>Sex_female</th>\n",
       "      <th>Sex_male</th>\n",
       "      <th>Embarked_C</th>\n",
       "      <th>Embarked_Q</th>\n",
       "      <th>Embarked_S</th>\n",
       "      <th>Ticket_type_0</th>\n",
       "      <th>Ticket_type_AFW</th>\n",
       "      <th>Ticket_type_C</th>\n",
       "      <th>Ticket_type_P</th>\n",
       "      <th>Ticket_type_S</th>\n",
       "      <th>FamilySize_Alone</th>\n",
       "      <th>FamilySize_Large</th>\n",
       "      <th>FamilySize_Medium</th>\n",
       "      <th>FamilySize_Small</th>\n",
       "      <th>Pclass</th>\n",
       "      <th>Age</th>\n",
       "      <th>Fare</th>\n",
       "    </tr>\n",
       "  </thead>\n",
       "  <tbody>\n",
       "    <tr>\n",
       "      <th>0</th>\n",
       "      <td>0.0</td>\n",
       "      <td>1.0</td>\n",
       "      <td>0.0</td>\n",
       "      <td>0.0</td>\n",
       "      <td>1.0</td>\n",
       "      <td>0.0</td>\n",
       "      <td>1.0</td>\n",
       "      <td>0.0</td>\n",
       "      <td>0.0</td>\n",
       "      <td>0.0</td>\n",
       "      <td>0.0</td>\n",
       "      <td>0.0</td>\n",
       "      <td>0.0</td>\n",
       "      <td>1.0</td>\n",
       "      <td>0.825209</td>\n",
       "      <td>-0.582365</td>\n",
       "      <td>-0.500240</td>\n",
       "    </tr>\n",
       "    <tr>\n",
       "      <th>1</th>\n",
       "      <td>1.0</td>\n",
       "      <td>0.0</td>\n",
       "      <td>1.0</td>\n",
       "      <td>0.0</td>\n",
       "      <td>0.0</td>\n",
       "      <td>0.0</td>\n",
       "      <td>0.0</td>\n",
       "      <td>0.0</td>\n",
       "      <td>1.0</td>\n",
       "      <td>0.0</td>\n",
       "      <td>0.0</td>\n",
       "      <td>0.0</td>\n",
       "      <td>0.0</td>\n",
       "      <td>1.0</td>\n",
       "      <td>-1.572211</td>\n",
       "      <td>0.626314</td>\n",
       "      <td>0.788947</td>\n",
       "    </tr>\n",
       "    <tr>\n",
       "      <th>2</th>\n",
       "      <td>1.0</td>\n",
       "      <td>0.0</td>\n",
       "      <td>0.0</td>\n",
       "      <td>0.0</td>\n",
       "      <td>1.0</td>\n",
       "      <td>0.0</td>\n",
       "      <td>0.0</td>\n",
       "      <td>0.0</td>\n",
       "      <td>0.0</td>\n",
       "      <td>1.0</td>\n",
       "      <td>1.0</td>\n",
       "      <td>0.0</td>\n",
       "      <td>0.0</td>\n",
       "      <td>0.0</td>\n",
       "      <td>0.825209</td>\n",
       "      <td>-0.280196</td>\n",
       "      <td>-0.486650</td>\n",
       "    </tr>\n",
       "    <tr>\n",
       "      <th>3</th>\n",
       "      <td>1.0</td>\n",
       "      <td>0.0</td>\n",
       "      <td>0.0</td>\n",
       "      <td>0.0</td>\n",
       "      <td>1.0</td>\n",
       "      <td>1.0</td>\n",
       "      <td>0.0</td>\n",
       "      <td>0.0</td>\n",
       "      <td>0.0</td>\n",
       "      <td>0.0</td>\n",
       "      <td>0.0</td>\n",
       "      <td>0.0</td>\n",
       "      <td>0.0</td>\n",
       "      <td>1.0</td>\n",
       "      <td>-1.572211</td>\n",
       "      <td>0.399687</td>\n",
       "      <td>0.422861</td>\n",
       "    </tr>\n",
       "    <tr>\n",
       "      <th>4</th>\n",
       "      <td>0.0</td>\n",
       "      <td>1.0</td>\n",
       "      <td>0.0</td>\n",
       "      <td>0.0</td>\n",
       "      <td>1.0</td>\n",
       "      <td>1.0</td>\n",
       "      <td>0.0</td>\n",
       "      <td>0.0</td>\n",
       "      <td>0.0</td>\n",
       "      <td>0.0</td>\n",
       "      <td>1.0</td>\n",
       "      <td>0.0</td>\n",
       "      <td>0.0</td>\n",
       "      <td>0.0</td>\n",
       "      <td>0.825209</td>\n",
       "      <td>0.399687</td>\n",
       "      <td>-0.484133</td>\n",
       "    </tr>\n",
       "  </tbody>\n",
       "</table>\n",
       "</div>"
      ],
      "text/plain": [
       "   Sex_female  Sex_male  Embarked_C  Embarked_Q  Embarked_S  Ticket_type_0  \\\n",
       "0         0.0       1.0         0.0         0.0         1.0            0.0   \n",
       "1         1.0       0.0         1.0         0.0         0.0            0.0   \n",
       "2         1.0       0.0         0.0         0.0         1.0            0.0   \n",
       "3         1.0       0.0         0.0         0.0         1.0            1.0   \n",
       "4         0.0       1.0         0.0         0.0         1.0            1.0   \n",
       "\n",
       "   Ticket_type_AFW  Ticket_type_C  Ticket_type_P  Ticket_type_S  \\\n",
       "0              1.0            0.0            0.0            0.0   \n",
       "1              0.0            0.0            1.0            0.0   \n",
       "2              0.0            0.0            0.0            1.0   \n",
       "3              0.0            0.0            0.0            0.0   \n",
       "4              0.0            0.0            0.0            0.0   \n",
       "\n",
       "   FamilySize_Alone  FamilySize_Large  FamilySize_Medium  FamilySize_Small  \\\n",
       "0               0.0               0.0                0.0               1.0   \n",
       "1               0.0               0.0                0.0               1.0   \n",
       "2               1.0               0.0                0.0               0.0   \n",
       "3               0.0               0.0                0.0               1.0   \n",
       "4               1.0               0.0                0.0               0.0   \n",
       "\n",
       "     Pclass       Age      Fare  \n",
       "0  0.825209 -0.582365 -0.500240  \n",
       "1 -1.572211  0.626314  0.788947  \n",
       "2  0.825209 -0.280196 -0.486650  \n",
       "3 -1.572211  0.399687  0.422861  \n",
       "4  0.825209  0.399687 -0.484133  "
      ]
     },
     "execution_count": 55,
     "metadata": {},
     "output_type": "execute_result"
    }
   ],
   "source": [
    "# Creating a standard scalar object and fitting the training data\n",
    "\n",
    "scaler = StandardScaler()\n",
    "x_train_scaled = scaler.fit_transform(x_train[num_col])\n",
    "\n",
    "# Creating a dataframe for ease of viewing\n",
    "\n",
    "x_train_scaled = pd.DataFrame(x_train_scaled,columns=num_col)\n",
    "x_train_scaled = pd.concat([x_train[cat_col],x_train_scaled],axis=1)\n",
    "x_train_scaled.head()"
   ]
  },
  {
   "cell_type": "markdown",
   "id": "3861629b",
   "metadata": {},
   "source": [
    "Repeating the same for the test data."
   ]
  },
  {
   "cell_type": "code",
   "execution_count": 56,
   "id": "0ab60c3d",
   "metadata": {},
   "outputs": [],
   "source": [
    "x_test_scaled = scaler.transform(x_test[num_col])\n",
    "x_test_scaled = pd.DataFrame(x_test_scaled,columns=num_col)\n",
    "x_test_scaled = pd.concat([x_test[cat_col],x_test_scaled],axis=1)"
   ]
  },
  {
   "cell_type": "markdown",
   "id": "2488f8b3",
   "metadata": {},
   "source": [
    "We are done with data cleaning and preprocessing. The only thing left now is creating and implementing our ML models for prediction."
   ]
  },
  {
   "cell_type": "markdown",
   "id": "f2355491",
   "metadata": {},
   "source": [
    "<br>"
   ]
  },
  {
   "cell_type": "markdown",
   "id": "af2d3186",
   "metadata": {},
   "source": [
    "# ML Prediction"
   ]
  },
  {
   "cell_type": "markdown",
   "id": "ebe492b1",
   "metadata": {},
   "source": [
    "We start off our prediction section with cross validation scores to reduce the number of models we will be working on."
   ]
  },
  {
   "cell_type": "markdown",
   "id": "652b284c",
   "metadata": {},
   "source": [
    "## Cross Validation"
   ]
  },
  {
   "cell_type": "markdown",
   "id": "a6494992",
   "metadata": {},
   "source": [
    "Cross-validation is a technique which tells how our model will behave with different splits of training and testing data. This is important to remove any bias introduced by the randomness of training and testing data selection. For k-splits, we get k number of scores and we can decide if we want them separately or combine them with an aggregate function.\n",
    "\n",
    "For our use, we will use the mean of the 10-fold CV scores."
   ]
  },
  {
   "cell_type": "markdown",
   "id": "4384647f",
   "metadata": {},
   "source": [
    "First we create two lists of models. Two since we have two different training sets for our concerned models."
   ]
  },
  {
   "cell_type": "code",
   "execution_count": 57,
   "id": "fc778cc4",
   "metadata": {},
   "outputs": [],
   "source": [
    "model_list_1 = [LogisticRegression(),KNeighborsClassifier(),SVC()]\n",
    "model_list_2 = [DecisionTreeClassifier(random_state=42),RandomForestClassifier(random_state=42)]"
   ]
  },
  {
   "cell_type": "markdown",
   "id": "386ac67a",
   "metadata": {},
   "source": [
    "Now we define a function which can quickly give us the results in a single array so that we don't have to run each CV again and again."
   ]
  },
  {
   "cell_type": "code",
   "execution_count": 58,
   "id": "45230b04",
   "metadata": {},
   "outputs": [],
   "source": [
    "def getCVscore(l1,l2):\n",
    "    res = []\n",
    "    \n",
    "    # Running a CV score loop for the first set of models - Training data scaled\n",
    "    for model in l1:\n",
    "        res.append(cross_val_score(model,x_train_scaled,y_train,cv=10,scoring='accuracy').mean())\n",
    "    \n",
    "    # Running a CV score loop for the second set of models - Training data not scaled\n",
    "    for model in l2:\n",
    "        res.append(cross_val_score(model,x_train,y_train,cv=10,scoring='accuracy').mean())\n",
    "    \n",
    "    return res"
   ]
  },
  {
   "cell_type": "code",
   "execution_count": 59,
   "id": "b26c1dfd",
   "metadata": {},
   "outputs": [
    {
     "data": {
      "text/plain": [
       "[0.8132916241062308,\n",
       " 0.8031537282941776,\n",
       " 0.8279239019407558,\n",
       " 0.7750638406537282,\n",
       " 0.8065628192032687]"
      ]
     },
     "execution_count": 59,
     "metadata": {},
     "output_type": "execute_result"
    }
   ],
   "source": [
    "getCVscore(model_list_1,model_list_2)"
   ]
  },
  {
   "cell_type": "markdown",
   "id": "6d4d122a",
   "metadata": {},
   "source": [
    "As we can see from above, with no parameters passed the best performing model is the Support Vector Classifier. If we rank them based on our CV score:\n",
    "\n",
    "1. SVC\n",
    "2. Logistic Regression\n",
    "3. Random Forest\n",
    "4. KNN\n",
    "5. Decision Tree\n",
    "\n",
    "We will further better our models using GridSearchCV from scikit-learn to get better results.\\\n",
    "Since I have already performed a Logistic Regression earlier (Link: https://www.kaggle.com/code/rushikeshsawarkar/titanic-survival-using-logistic-regression), we will be dropping it from our study here.\\\n",
    "We will keep Decision Tree Classifier model since with no parameters, the model usually tends to overfit which is why we might be getting bad CV score.\n",
    " \n",
    "Thus, our final contestants are: SVC, Decison Tree Classifier and Random Forest Classifier"
   ]
  },
  {
   "cell_type": "markdown",
   "id": "f7e0c9ec",
   "metadata": {},
   "source": [
    "## Grid Search CV for Hyperparameter Tuning"
   ]
  },
  {
   "cell_type": "markdown",
   "id": "f61a2c12",
   "metadata": {},
   "source": [
    "We will use scikit-learn's GridSearchCV to tune our hyperparameters for our final selected models and make predictions on the test data."
   ]
  },
  {
   "cell_type": "markdown",
   "id": "83e8e17a",
   "metadata": {},
   "source": [
    "### SVC"
   ]
  },
  {
   "cell_type": "code",
   "execution_count": 60,
   "id": "1acb2e41",
   "metadata": {},
   "outputs": [],
   "source": [
    "# Creating a GridSearchCV object for tuning parameters for SVC model\n",
    "\n",
    "params = {'C':[0.1,0.5,1,10,100],'kernel':['linear','poly','rbf','sigmoid'],'gamma':[1e-3,1e-4,1e-2,1e-1]}\n",
    "gs = GridSearchCV(estimator=SVC(),param_grid=params,verbose=1)"
   ]
  },
  {
   "cell_type": "code",
   "execution_count": 61,
   "id": "78c833a6",
   "metadata": {},
   "outputs": [
    {
     "name": "stdout",
     "output_type": "stream",
     "text": [
      "Fitting 5 folds for each of 80 candidates, totalling 400 fits\n"
     ]
    },
    {
     "data": {
      "text/plain": [
       "{'C': 100, 'gamma': 0.01, 'kernel': 'rbf'}"
      ]
     },
     "execution_count": 61,
     "metadata": {},
     "output_type": "execute_result"
    }
   ],
   "source": [
    "# Fitting the training data\n",
    "\n",
    "gs.fit(x_train_scaled,y_train)\n",
    "gs.best_params_"
   ]
  },
  {
   "cell_type": "code",
   "execution_count": 62,
   "id": "b1525af4",
   "metadata": {},
   "outputs": [],
   "source": [
    "# Fitting the training data with the tuned parameters\n",
    "\n",
    "svc = SVC(C=100,gamma=0.01)\n",
    "svc.fit(x_train_scaled,y_train)\n",
    "\n",
    "# Storing the predictions for the test data\n",
    "pred_svc = svc.predict(x_test_scaled)"
   ]
  },
  {
   "cell_type": "markdown",
   "id": "00083b1a",
   "metadata": {},
   "source": [
    "### Decision Tree Classifier"
   ]
  },
  {
   "cell_type": "code",
   "execution_count": 63,
   "id": "b9b34e7f",
   "metadata": {},
   "outputs": [],
   "source": [
    "# Creating a GridSearchCV object for tuning parameters for Decision Tree model\n",
    "\n",
    "params = {'criterion':['gini','entropy'],'max_depth':np.array(range(1,11)),\n",
    "          'min_samples_leaf':np.array(range(1,11))}\n",
    "\n",
    "gs = GridSearchCV(estimator=DecisionTreeClassifier(random_state=42),param_grid=params,verbose=1)"
   ]
  },
  {
   "cell_type": "code",
   "execution_count": 64,
   "id": "3ca0c480",
   "metadata": {},
   "outputs": [
    {
     "name": "stdout",
     "output_type": "stream",
     "text": [
      "Fitting 5 folds for each of 200 candidates, totalling 1000 fits\n"
     ]
    },
    {
     "data": {
      "text/plain": [
       "{'criterion': 'gini', 'max_depth': 7, 'min_samples_leaf': 3}"
      ]
     },
     "execution_count": 64,
     "metadata": {},
     "output_type": "execute_result"
    }
   ],
   "source": [
    "# Fitting the training data\n",
    "\n",
    "gs.fit(x_train,y_train)\n",
    "gs.best_params_"
   ]
  },
  {
   "cell_type": "code",
   "execution_count": 65,
   "id": "0dbc906a",
   "metadata": {},
   "outputs": [],
   "source": [
    "# Fitting the training data with the tuned parameters\n",
    "\n",
    "dtree = DecisionTreeClassifier(max_depth=7,min_samples_leaf=3,random_state=42)\n",
    "dtree.fit(x_train,y_train)\n",
    "\n",
    "# Storing the predictions for the test data\n",
    "pred_dtree = dtree.predict(x_test)"
   ]
  },
  {
   "cell_type": "markdown",
   "id": "0771a447",
   "metadata": {},
   "source": [
    "### Random Forest Classifier"
   ]
  },
  {
   "cell_type": "markdown",
   "id": "9ff78547",
   "metadata": {},
   "source": [
    "To save computation time, we'll just select the tuned parameters from the decision tree and only tune the n_estimator parameter for the Random Forest."
   ]
  },
  {
   "cell_type": "code",
   "execution_count": 66,
   "id": "11baf98e",
   "metadata": {},
   "outputs": [],
   "source": [
    "# Creating a GridSearchCV object for tuning parameters for Random Forest model\n",
    "\n",
    "params = {'n_estimators':[100,200,300,400,500,600]}\n",
    "\n",
    "gs = GridSearchCV(estimator=RandomForestClassifier(max_depth=7,min_samples_leaf=3,random_state=42),param_grid=params,verbose=1)"
   ]
  },
  {
   "cell_type": "code",
   "execution_count": 67,
   "id": "ade2c556",
   "metadata": {},
   "outputs": [
    {
     "name": "stdout",
     "output_type": "stream",
     "text": [
      "Fitting 5 folds for each of 6 candidates, totalling 30 fits\n"
     ]
    },
    {
     "data": {
      "text/plain": [
       "{'n_estimators': 300}"
      ]
     },
     "execution_count": 67,
     "metadata": {},
     "output_type": "execute_result"
    }
   ],
   "source": [
    "# Fitting the training data\n",
    "\n",
    "gs.fit(x_train,y_train)\n",
    "gs.best_params_"
   ]
  },
  {
   "cell_type": "code",
   "execution_count": 68,
   "id": "e1f80f14",
   "metadata": {},
   "outputs": [],
   "source": [
    "# Fitting the training data with the tuned parameters\n",
    "\n",
    "rfc = RandomForestClassifier(300,max_depth=7,min_samples_leaf=3,random_state=42)\n",
    "rfc.fit(x_train,y_train)\n",
    "\n",
    "# Storing the predictions for the test data\n",
    "pred_rfc = rfc.predict(x_test)"
   ]
  },
  {
   "cell_type": "markdown",
   "id": "0474e259",
   "metadata": {},
   "source": [
    "### Confusion Matrix Study for Training Set Fitting"
   ]
  },
  {
   "cell_type": "markdown",
   "id": "32a83b92",
   "metadata": {},
   "source": [
    "Here, we will just check how well our model has fitted on the training set using a confusion matrix."
   ]
  },
  {
   "cell_type": "code",
   "execution_count": 69,
   "id": "e58dbf74",
   "metadata": {},
   "outputs": [
    {
     "data": {
      "image/png": "[encoded data removed]",
      "text/plain": [
       "<Figure size 1152x288 with 6 Axes>"
      ]
     },
     "metadata": {
      "needs_background": "light"
     },
     "output_type": "display_data"
    }
   ],
   "source": [
    "sns.reset_orig()\n",
    "fig, (ax1,ax2,ax3) = plt.subplots(1,3,figsize=(16,4))\n",
    "\n",
    "ConfusionMatrixDisplay.from_predictions(y_train,svc.predict(x_train_scaled),\n",
    "                                        ax=ax1)\n",
    "ax1.set_title('Support Vector Predictions')\n",
    "\n",
    "ConfusionMatrixDisplay.from_predictions(y_train,dtree.predict(x_train),\n",
    "                                        ax=ax2)\n",
    "ax2.set_title('Decision Tree Predictions')\n",
    "\n",
    "ConfusionMatrixDisplay.from_predictions(y_train,rfc.predict(x_train),\n",
    "                                        ax=ax3)\n",
    "ax3.set_title('Random Forest Predictions')\n",
    "\n",
    "plt.show()"
   ]
  },
  {
   "cell_type": "markdown",
   "id": "b6b10484",
   "metadata": {},
   "source": [
    "While this has nothing to do with how well our model will predict the test data, one thing we can observe from the above confusion matrices of training data is that our model predicts the likelihood of death (0) much better than it can predict survival (1).\n",
    "\n",
    "This is because our dataset is imbalanced ~ 62% deaths and 38% alive\n",
    "\n",
    "One way to imporve the predictions of survival (1) is to resample the data and balance it. It may lead to a lower accuracy but the recall and precision will surely increase for the survival (1) label."
   ]
  },
  {
   "cell_type": "markdown",
   "id": "5b8b148b",
   "metadata": {},
   "source": [
    "<br>"
   ]
  },
  {
   "cell_type": "markdown",
   "id": "87386df7",
   "metadata": {},
   "source": [
    "# Submission file for Kaggle"
   ]
  },
  {
   "cell_type": "markdown",
   "id": "01c87081",
   "metadata": {},
   "source": [
    "After submitting the three prediction files, I got the best score with Random Forest Classifier. Here are the other scores:\n",
    "1. Random Forest Classifier - 0.7942\n",
    "2. Support Vector Classifier - 0.7894\n",
    "3. Decision Tree Classifier - 0.7225"
   ]
  },
  {
   "cell_type": "code",
   "execution_count": 70,
   "id": "1f6f629d",
   "metadata": {},
   "outputs": [],
   "source": [
    "# Creating a new dataframe with just two columns - PassengerId and Survived (the predicted values)\n",
    "\n",
    "submission = pd.DataFrame(data=test['PassengerId'],columns=['PassengerId'])\n",
    "submission['Survived'] = pred_rfc"
   ]
  },
  {
   "cell_type": "code",
   "execution_count": 71,
   "id": "5bcdbb5b",
   "metadata": {},
   "outputs": [
    {
     "data": {
      "text/html": [
       "<div>\n",
       "<style scoped>\n",
       "    .dataframe tbody tr th:only-of-type {\n",
       "        vertical-align: middle;\n",
       "    }\n",
       "\n",
       "    .dataframe tbody tr th {\n",
       "        vertical-align: top;\n",
       "    }\n",
       "\n",
       "    .dataframe thead th {\n",
       "        text-align: right;\n",
       "    }\n",
       "</style>\n",
       "<table border=\"1\" class=\"dataframe\">\n",
       "  <thead>\n",
       "    <tr style=\"text-align: right;\">\n",
       "      <th></th>\n",
       "      <th>PassengerId</th>\n",
       "      <th>Survived</th>\n",
       "    </tr>\n",
       "  </thead>\n",
       "  <tbody>\n",
       "    <tr>\n",
       "      <th>0</th>\n",
       "      <td>892</td>\n",
       "      <td>0</td>\n",
       "    </tr>\n",
       "    <tr>\n",
       "      <th>1</th>\n",
       "      <td>893</td>\n",
       "      <td>0</td>\n",
       "    </tr>\n",
       "    <tr>\n",
       "      <th>2</th>\n",
       "      <td>894</td>\n",
       "      <td>0</td>\n",
       "    </tr>\n",
       "    <tr>\n",
       "      <th>3</th>\n",
       "      <td>895</td>\n",
       "      <td>0</td>\n",
       "    </tr>\n",
       "    <tr>\n",
       "      <th>4</th>\n",
       "      <td>896</td>\n",
       "      <td>1</td>\n",
       "    </tr>\n",
       "  </tbody>\n",
       "</table>\n",
       "</div>"
      ],
      "text/plain": [
       "   PassengerId  Survived\n",
       "0          892         0\n",
       "1          893         0\n",
       "2          894         0\n",
       "3          895         0\n",
       "4          896         1"
      ]
     },
     "execution_count": 71,
     "metadata": {},
     "output_type": "execute_result"
    }
   ],
   "source": [
    "submission.head()"
   ]
  },
  {
   "cell_type": "code",
   "execution_count": 72,
   "id": "e12c3970",
   "metadata": {},
   "outputs": [],
   "source": [
    "submission.to_csv('submission.csv',index=False)"
   ]
  },
  {
   "cell_type": "markdown",
   "id": "f81a5ef4",
   "metadata": {},
   "source": [
    "**Important Note:**\n",
    "\n",
    "I played with the parameters in the Random Forest Classifier and got even a better score of **0.79665** with the following parameters:\n",
    "> n_estimators = 400, criterion = 'entropy', max_depth = 8, min_samples_leaf = 6, random_state = 42\n",
    "\n",
    "However, it is important to note that such an approach of checking test scores and playing around with the parameters is essentially the same as (although not directly) trying to fit the test data.\n",
    "\n",
    "In real life, we almost always never have any idea of the test results and thus one should always **avoid trying to fit the test data** directly or indirectly.\n",
    "\n",
    "This is also known as **data leakage**. One such example is while standardizing, we always make sure to fit the standardization on the training data since we could not possibly have any knowledge of the distribution of the test data. Thus, we always standardize after the train_test_split and not before it, otherwise our model will have the knowledge of the test distribution as well.\n",
    "\n",
    "Hence, we should not tune the parameters basis test scores. Other hyperparameter tuning approaches are available to extract the best out of our training set."
   ]
  },
  {
   "cell_type": "code",
   "execution_count": null,
   "id": "d6f6f79f",
   "metadata": {},
   "outputs": [],
   "source": []
  }
 ],
 "metadata": {
  "kernelspec": {
   "display_name": "Python 3 (ipykernel)",
   "language": "python",
   "name": "python3"
  },
  "language_info": {
   "codemirror_mode": {
    "name": "ipython",
    "version": 3
   },
   "file_extension": ".py",
   "mimetype": "text/x-python",
   "name": "python",
   "nbconvert_exporter": "python",
   "pygments_lexer": "ipython3",
   "version": "3.9.12"
  }
 },
 "nbformat": 4,
 "nbformat_minor": 5
}
